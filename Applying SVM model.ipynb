{
 "cells": [
  {
   "cell_type": "code",
   "id": "initial_id",
   "metadata": {
    "collapsed": true,
    "ExecuteTime": {
     "end_time": "2025-03-02T11:06:38.270505Z",
     "start_time": "2025-03-02T11:06:38.147034Z"
    }
   },
   "source": [
    "\n",
    "import pandas as pd\n",
    "from sklearn.preprocessing import LabelEncoder\n",
    "from sklearn.preprocessing import StandardScaler\n",
    "from sklearn.model_selection import train_test_split\n",
    "from sklearn import svm\n",
    "from sklearn.metrics import accuracy_score, precision_score, recall_score, f1_score\n",
    "\n"
   ],
   "outputs": [],
   "execution_count": 1
  },
  {
   "metadata": {
    "ExecuteTime": {
     "end_time": "2025-03-02T11:06:40.334670Z",
     "start_time": "2025-03-02T11:06:40.331670Z"
    }
   },
   "cell_type": "code",
   "source": [
    "import warnings\n",
    "warnings.filterwarnings(action='ignore')"
   ],
   "id": "ecc3874bf12d8d45",
   "outputs": [],
   "execution_count": 2
  },
  {
   "metadata": {
    "ExecuteTime": {
     "end_time": "2025-03-02T11:06:41.486838Z",
     "start_time": "2025-03-02T11:06:41.357508Z"
    }
   },
   "cell_type": "code",
   "source": "df = pd.read_csv(\"satisfaction_log_no_outliers.csv\")",
   "id": "eed46acbc55f7a79",
   "outputs": [],
   "execution_count": 3
  },
  {
   "metadata": {
    "ExecuteTime": {
     "end_time": "2025-03-02T11:06:42.186634Z",
     "start_time": "2025-03-02T11:06:42.183305Z"
    }
   },
   "cell_type": "code",
   "source": "print(df.dtypes)",
   "id": "a47f01321bffd810",
   "outputs": [
    {
     "name": "stdout",
     "output_type": "stream",
     "text": [
      "id                                     int64\n",
      "satisfaction_v2                       object\n",
      "Gender                                object\n",
      "Customer Type                         object\n",
      "Age                                    int64\n",
      "Type of Travel                        object\n",
      "Class                                 object\n",
      "Flight Distance                      float64\n",
      "Inflight wifi service                  int64\n",
      "Departure/Arrival time convenient      int64\n",
      "Ease of Online booking                 int64\n",
      "Gate location                          int64\n",
      "Food and drink                         int64\n",
      "Online boarding                        int64\n",
      "Seat comfort                           int64\n",
      "Inflight entertainment                 int64\n",
      "On-board service                       int64\n",
      "Leg room service                       int64\n",
      "Baggage handling                       int64\n",
      "Checkin service                        int64\n",
      "Inflight service                       int64\n",
      "Cleanliness                            int64\n",
      "Departure Delay in Minutes           float64\n",
      "Arrival Delay in Minutes             float64\n",
      "dtype: object\n"
     ]
    }
   ],
   "execution_count": 4
  },
  {
   "metadata": {
    "ExecuteTime": {
     "end_time": "2025-03-02T11:06:43.062699Z",
     "start_time": "2025-03-02T11:06:43.042993Z"
    }
   },
   "cell_type": "code",
   "source": "df.isna().sum()\n",
   "id": "58a8c105f684d2f3",
   "outputs": [
    {
     "data": {
      "text/plain": [
       "id                                   0\n",
       "satisfaction_v2                      0\n",
       "Gender                               0\n",
       "Customer Type                        0\n",
       "Age                                  0\n",
       "Type of Travel                       0\n",
       "Class                                0\n",
       "Flight Distance                      0\n",
       "Inflight wifi service                0\n",
       "Departure/Arrival time convenient    0\n",
       "Ease of Online booking               0\n",
       "Gate location                        0\n",
       "Food and drink                       0\n",
       "Online boarding                      0\n",
       "Seat comfort                         0\n",
       "Inflight entertainment               0\n",
       "On-board service                     0\n",
       "Leg room service                     0\n",
       "Baggage handling                     0\n",
       "Checkin service                      0\n",
       "Inflight service                     0\n",
       "Cleanliness                          0\n",
       "Departure Delay in Minutes           0\n",
       "Arrival Delay in Minutes             0\n",
       "dtype: int64"
      ]
     },
     "execution_count": 5,
     "metadata": {},
     "output_type": "execute_result"
    }
   ],
   "execution_count": 5
  },
  {
   "metadata": {
    "ExecuteTime": {
     "end_time": "2025-03-02T11:06:43.918820Z",
     "start_time": "2025-03-02T11:06:43.907415Z"
    }
   },
   "cell_type": "code",
   "source": "df.drop(columns=['id'], inplace=True)",
   "id": "9a857d87e3906084",
   "outputs": [],
   "execution_count": 6
  },
  {
   "metadata": {
    "ExecuteTime": {
     "end_time": "2025-03-02T11:06:44.745037Z",
     "start_time": "2025-03-02T11:06:44.737532Z"
    }
   },
   "cell_type": "code",
   "source": "print(df['Class'].value_counts())",
   "id": "6227ae2e4b6b9a70",
   "outputs": [
    {
     "name": "stdout",
     "output_type": "stream",
     "text": [
      "Class\n",
      "Business    61975\n",
      "Eco         58099\n",
      "Eco Plus     9378\n",
      "Name: count, dtype: int64\n"
     ]
    }
   ],
   "execution_count": 7
  },
  {
   "metadata": {
    "ExecuteTime": {
     "end_time": "2025-03-02T11:06:45.605730Z",
     "start_time": "2025-03-02T11:06:45.592938Z"
    }
   },
   "cell_type": "code",
   "source": [
    "le = LabelEncoder()\n",
    "df['Class'] = le.fit_transform(df['Class'])"
   ],
   "id": "9b8f5547723c47fd",
   "outputs": [],
   "execution_count": 8
  },
  {
   "metadata": {
    "ExecuteTime": {
     "end_time": "2025-03-02T11:06:46.513191Z",
     "start_time": "2025-03-02T11:06:46.483478Z"
    }
   },
   "cell_type": "code",
   "source": "df = pd.get_dummies(df, columns=['Gender', 'Customer Type', 'Type of Travel'], drop_first=True)\n",
   "id": "42fd937bc26839d5",
   "outputs": [],
   "execution_count": 9
  },
  {
   "metadata": {
    "ExecuteTime": {
     "end_time": "2025-03-02T11:06:58.269454Z",
     "start_time": "2025-03-02T11:06:58.262489Z"
    }
   },
   "cell_type": "code",
   "source": "df['satisfaction_v2'] = df['satisfaction_v2'].map({'satisfied': 1, 'neutral or dissatisfied': 0})\n",
   "id": "467d8e392c4bf340",
   "outputs": [],
   "execution_count": 10
  },
  {
   "metadata": {
    "ExecuteTime": {
     "end_time": "2025-03-02T11:06:59.459467Z",
     "start_time": "2025-03-02T11:06:59.401521Z"
    }
   },
   "cell_type": "code",
   "source": "df.describe().T",
   "id": "2d9dfe9995fd6263",
   "outputs": [
    {
     "data": {
      "text/plain": [
       "                                      count       mean        std       min  \\\n",
       "satisfaction_v2                    129452.0   0.434532   0.495697  0.000000   \n",
       "Age                                129452.0  39.430036  15.117662  7.000000   \n",
       "Class                              129452.0   0.593695   0.621379  0.000000   \n",
       "Flight Distance                    129452.0   6.706453   0.915257  4.043051   \n",
       "Inflight wifi service              129452.0   2.728602   1.329245  0.000000   \n",
       "Departure/Arrival time convenient  129452.0   3.057303   1.526758  0.000000   \n",
       "Ease of Online booking             129452.0   2.756875   1.401652  0.000000   \n",
       "Gate location                      129452.0   2.976964   1.278481  0.000000   \n",
       "Food and drink                     129452.0   3.204833   1.329845  0.000000   \n",
       "Online boarding                    129452.0   3.252773   1.350596  0.000000   \n",
       "Seat comfort                       129452.0   3.441724   1.319098  0.000000   \n",
       "Inflight entertainment             129452.0   3.358102   1.334148  0.000000   \n",
       "On-board service                   129452.0   3.383223   1.287033  0.000000   \n",
       "Leg room service                   129452.0   3.351034   1.316158  0.000000   \n",
       "Baggage handling                   129452.0   3.631825   1.180091  1.000000   \n",
       "Checkin service                    129452.0   3.306229   1.266098  0.000000   \n",
       "Inflight service                   129452.0   3.642532   1.176537  0.000000   \n",
       "Cleanliness                        129452.0   3.286315   1.313578  0.000000   \n",
       "Departure Delay in Minutes         129452.0   1.230104   1.614236  0.000000   \n",
       "Arrival Delay in Minutes           129452.0   1.262408   1.628328  0.000000   \n",
       "\n",
       "                                         25%        50%        75%        max  \n",
       "satisfaction_v2                     0.000000   0.000000   1.000000   1.000000  \n",
       "Age                                27.000000  40.000000  51.000000  85.000000  \n",
       "Class                               0.000000   1.000000   1.000000   2.000000  \n",
       "Flight Distance                     6.028279   6.739337   7.464510   8.513988  \n",
       "Inflight wifi service               2.000000   3.000000   4.000000   5.000000  \n",
       "Departure/Arrival time convenient   2.000000   3.000000   4.000000   5.000000  \n",
       "Ease of Online booking              2.000000   3.000000   4.000000   5.000000  \n",
       "Gate location                       2.000000   3.000000   4.000000   5.000000  \n",
       "Food and drink                      2.000000   3.000000   4.000000   5.000000  \n",
       "Online boarding                     2.000000   3.000000   4.000000   5.000000  \n",
       "Seat comfort                        2.000000   4.000000   5.000000   5.000000  \n",
       "Inflight entertainment              2.000000   4.000000   4.000000   5.000000  \n",
       "On-board service                    2.000000   4.000000   4.000000   5.000000  \n",
       "Leg room service                    2.000000   4.000000   4.000000   5.000000  \n",
       "Baggage handling                    3.000000   4.000000   5.000000   5.000000  \n",
       "Checkin service                     3.000000   3.000000   4.000000   5.000000  \n",
       "Inflight service                    3.000000   4.000000   5.000000   5.000000  \n",
       "Cleanliness                         2.000000   3.000000   4.000000   5.000000  \n",
       "Departure Delay in Minutes          0.000000   0.000000   2.564949   6.398595  \n",
       "Arrival Delay in Minutes            0.000000   0.000000   2.639057   6.437752  "
      ],
      "text/html": [
       "<div>\n",
       "<style scoped>\n",
       "    .dataframe tbody tr th:only-of-type {\n",
       "        vertical-align: middle;\n",
       "    }\n",
       "\n",
       "    .dataframe tbody tr th {\n",
       "        vertical-align: top;\n",
       "    }\n",
       "\n",
       "    .dataframe thead th {\n",
       "        text-align: right;\n",
       "    }\n",
       "</style>\n",
       "<table border=\"1\" class=\"dataframe\">\n",
       "  <thead>\n",
       "    <tr style=\"text-align: right;\">\n",
       "      <th></th>\n",
       "      <th>count</th>\n",
       "      <th>mean</th>\n",
       "      <th>std</th>\n",
       "      <th>min</th>\n",
       "      <th>25%</th>\n",
       "      <th>50%</th>\n",
       "      <th>75%</th>\n",
       "      <th>max</th>\n",
       "    </tr>\n",
       "  </thead>\n",
       "  <tbody>\n",
       "    <tr>\n",
       "      <th>satisfaction_v2</th>\n",
       "      <td>129452.0</td>\n",
       "      <td>0.434532</td>\n",
       "      <td>0.495697</td>\n",
       "      <td>0.000000</td>\n",
       "      <td>0.000000</td>\n",
       "      <td>0.000000</td>\n",
       "      <td>1.000000</td>\n",
       "      <td>1.000000</td>\n",
       "    </tr>\n",
       "    <tr>\n",
       "      <th>Age</th>\n",
       "      <td>129452.0</td>\n",
       "      <td>39.430036</td>\n",
       "      <td>15.117662</td>\n",
       "      <td>7.000000</td>\n",
       "      <td>27.000000</td>\n",
       "      <td>40.000000</td>\n",
       "      <td>51.000000</td>\n",
       "      <td>85.000000</td>\n",
       "    </tr>\n",
       "    <tr>\n",
       "      <th>Class</th>\n",
       "      <td>129452.0</td>\n",
       "      <td>0.593695</td>\n",
       "      <td>0.621379</td>\n",
       "      <td>0.000000</td>\n",
       "      <td>0.000000</td>\n",
       "      <td>1.000000</td>\n",
       "      <td>1.000000</td>\n",
       "      <td>2.000000</td>\n",
       "    </tr>\n",
       "    <tr>\n",
       "      <th>Flight Distance</th>\n",
       "      <td>129452.0</td>\n",
       "      <td>6.706453</td>\n",
       "      <td>0.915257</td>\n",
       "      <td>4.043051</td>\n",
       "      <td>6.028279</td>\n",
       "      <td>6.739337</td>\n",
       "      <td>7.464510</td>\n",
       "      <td>8.513988</td>\n",
       "    </tr>\n",
       "    <tr>\n",
       "      <th>Inflight wifi service</th>\n",
       "      <td>129452.0</td>\n",
       "      <td>2.728602</td>\n",
       "      <td>1.329245</td>\n",
       "      <td>0.000000</td>\n",
       "      <td>2.000000</td>\n",
       "      <td>3.000000</td>\n",
       "      <td>4.000000</td>\n",
       "      <td>5.000000</td>\n",
       "    </tr>\n",
       "    <tr>\n",
       "      <th>Departure/Arrival time convenient</th>\n",
       "      <td>129452.0</td>\n",
       "      <td>3.057303</td>\n",
       "      <td>1.526758</td>\n",
       "      <td>0.000000</td>\n",
       "      <td>2.000000</td>\n",
       "      <td>3.000000</td>\n",
       "      <td>4.000000</td>\n",
       "      <td>5.000000</td>\n",
       "    </tr>\n",
       "    <tr>\n",
       "      <th>Ease of Online booking</th>\n",
       "      <td>129452.0</td>\n",
       "      <td>2.756875</td>\n",
       "      <td>1.401652</td>\n",
       "      <td>0.000000</td>\n",
       "      <td>2.000000</td>\n",
       "      <td>3.000000</td>\n",
       "      <td>4.000000</td>\n",
       "      <td>5.000000</td>\n",
       "    </tr>\n",
       "    <tr>\n",
       "      <th>Gate location</th>\n",
       "      <td>129452.0</td>\n",
       "      <td>2.976964</td>\n",
       "      <td>1.278481</td>\n",
       "      <td>0.000000</td>\n",
       "      <td>2.000000</td>\n",
       "      <td>3.000000</td>\n",
       "      <td>4.000000</td>\n",
       "      <td>5.000000</td>\n",
       "    </tr>\n",
       "    <tr>\n",
       "      <th>Food and drink</th>\n",
       "      <td>129452.0</td>\n",
       "      <td>3.204833</td>\n",
       "      <td>1.329845</td>\n",
       "      <td>0.000000</td>\n",
       "      <td>2.000000</td>\n",
       "      <td>3.000000</td>\n",
       "      <td>4.000000</td>\n",
       "      <td>5.000000</td>\n",
       "    </tr>\n",
       "    <tr>\n",
       "      <th>Online boarding</th>\n",
       "      <td>129452.0</td>\n",
       "      <td>3.252773</td>\n",
       "      <td>1.350596</td>\n",
       "      <td>0.000000</td>\n",
       "      <td>2.000000</td>\n",
       "      <td>3.000000</td>\n",
       "      <td>4.000000</td>\n",
       "      <td>5.000000</td>\n",
       "    </tr>\n",
       "    <tr>\n",
       "      <th>Seat comfort</th>\n",
       "      <td>129452.0</td>\n",
       "      <td>3.441724</td>\n",
       "      <td>1.319098</td>\n",
       "      <td>0.000000</td>\n",
       "      <td>2.000000</td>\n",
       "      <td>4.000000</td>\n",
       "      <td>5.000000</td>\n",
       "      <td>5.000000</td>\n",
       "    </tr>\n",
       "    <tr>\n",
       "      <th>Inflight entertainment</th>\n",
       "      <td>129452.0</td>\n",
       "      <td>3.358102</td>\n",
       "      <td>1.334148</td>\n",
       "      <td>0.000000</td>\n",
       "      <td>2.000000</td>\n",
       "      <td>4.000000</td>\n",
       "      <td>4.000000</td>\n",
       "      <td>5.000000</td>\n",
       "    </tr>\n",
       "    <tr>\n",
       "      <th>On-board service</th>\n",
       "      <td>129452.0</td>\n",
       "      <td>3.383223</td>\n",
       "      <td>1.287033</td>\n",
       "      <td>0.000000</td>\n",
       "      <td>2.000000</td>\n",
       "      <td>4.000000</td>\n",
       "      <td>4.000000</td>\n",
       "      <td>5.000000</td>\n",
       "    </tr>\n",
       "    <tr>\n",
       "      <th>Leg room service</th>\n",
       "      <td>129452.0</td>\n",
       "      <td>3.351034</td>\n",
       "      <td>1.316158</td>\n",
       "      <td>0.000000</td>\n",
       "      <td>2.000000</td>\n",
       "      <td>4.000000</td>\n",
       "      <td>4.000000</td>\n",
       "      <td>5.000000</td>\n",
       "    </tr>\n",
       "    <tr>\n",
       "      <th>Baggage handling</th>\n",
       "      <td>129452.0</td>\n",
       "      <td>3.631825</td>\n",
       "      <td>1.180091</td>\n",
       "      <td>1.000000</td>\n",
       "      <td>3.000000</td>\n",
       "      <td>4.000000</td>\n",
       "      <td>5.000000</td>\n",
       "      <td>5.000000</td>\n",
       "    </tr>\n",
       "    <tr>\n",
       "      <th>Checkin service</th>\n",
       "      <td>129452.0</td>\n",
       "      <td>3.306229</td>\n",
       "      <td>1.266098</td>\n",
       "      <td>0.000000</td>\n",
       "      <td>3.000000</td>\n",
       "      <td>3.000000</td>\n",
       "      <td>4.000000</td>\n",
       "      <td>5.000000</td>\n",
       "    </tr>\n",
       "    <tr>\n",
       "      <th>Inflight service</th>\n",
       "      <td>129452.0</td>\n",
       "      <td>3.642532</td>\n",
       "      <td>1.176537</td>\n",
       "      <td>0.000000</td>\n",
       "      <td>3.000000</td>\n",
       "      <td>4.000000</td>\n",
       "      <td>5.000000</td>\n",
       "      <td>5.000000</td>\n",
       "    </tr>\n",
       "    <tr>\n",
       "      <th>Cleanliness</th>\n",
       "      <td>129452.0</td>\n",
       "      <td>3.286315</td>\n",
       "      <td>1.313578</td>\n",
       "      <td>0.000000</td>\n",
       "      <td>2.000000</td>\n",
       "      <td>3.000000</td>\n",
       "      <td>4.000000</td>\n",
       "      <td>5.000000</td>\n",
       "    </tr>\n",
       "    <tr>\n",
       "      <th>Departure Delay in Minutes</th>\n",
       "      <td>129452.0</td>\n",
       "      <td>1.230104</td>\n",
       "      <td>1.614236</td>\n",
       "      <td>0.000000</td>\n",
       "      <td>0.000000</td>\n",
       "      <td>0.000000</td>\n",
       "      <td>2.564949</td>\n",
       "      <td>6.398595</td>\n",
       "    </tr>\n",
       "    <tr>\n",
       "      <th>Arrival Delay in Minutes</th>\n",
       "      <td>129452.0</td>\n",
       "      <td>1.262408</td>\n",
       "      <td>1.628328</td>\n",
       "      <td>0.000000</td>\n",
       "      <td>0.000000</td>\n",
       "      <td>0.000000</td>\n",
       "      <td>2.639057</td>\n",
       "      <td>6.437752</td>\n",
       "    </tr>\n",
       "  </tbody>\n",
       "</table>\n",
       "</div>"
      ]
     },
     "execution_count": 11,
     "metadata": {},
     "output_type": "execute_result"
    }
   ],
   "execution_count": 11
  },
  {
   "metadata": {
    "ExecuteTime": {
     "end_time": "2025-03-02T11:07:00.793461Z",
     "start_time": "2025-03-02T11:07:00.789448Z"
    }
   },
   "cell_type": "code",
   "source": "df['satisfaction_v2'].value_counts()",
   "id": "d596a8124100b6e3",
   "outputs": [
    {
     "data": {
      "text/plain": [
       "satisfaction_v2\n",
       "0    73201\n",
       "1    56251\n",
       "Name: count, dtype: int64"
      ]
     },
     "execution_count": 12,
     "metadata": {},
     "output_type": "execute_result"
    }
   ],
   "execution_count": 12
  },
  {
   "metadata": {
    "ExecuteTime": {
     "end_time": "2025-03-02T11:07:04.324971Z",
     "start_time": "2025-03-02T11:07:04.318941Z"
    }
   },
   "cell_type": "code",
   "source": [
    "Input_data = df.drop(columns='satisfaction_v2', axis=1)\n",
    "Labels = df['satisfaction_v2']"
   ],
   "id": "93888091f39f4858",
   "outputs": [],
   "execution_count": 13
  },
  {
   "metadata": {
    "ExecuteTime": {
     "end_time": "2025-03-02T11:07:07.668926Z",
     "start_time": "2025-03-02T11:07:07.665233Z"
    }
   },
   "cell_type": "code",
   "source": "Labels",
   "id": "a09376b9dc046cd0",
   "outputs": [
    {
     "data": {
      "text/plain": [
       "0         1\n",
       "1         1\n",
       "2         1\n",
       "3         1\n",
       "4         1\n",
       "         ..\n",
       "129447    1\n",
       "129448    1\n",
       "129449    1\n",
       "129450    1\n",
       "129451    1\n",
       "Name: satisfaction_v2, Length: 129452, dtype: int64"
      ]
     },
     "execution_count": 14,
     "metadata": {},
     "output_type": "execute_result"
    }
   ],
   "execution_count": 14
  },
  {
   "metadata": {
    "ExecuteTime": {
     "end_time": "2025-03-02T11:07:16.100227Z",
     "start_time": "2025-03-02T11:07:16.097487Z"
    }
   },
   "cell_type": "code",
   "source": "scaler = StandardScaler()",
   "id": "6c34778ee5b812a",
   "outputs": [],
   "execution_count": 15
  },
  {
   "metadata": {
    "ExecuteTime": {
     "end_time": "2025-03-02T11:07:17.186617Z",
     "start_time": "2025-03-02T11:07:17.156524Z"
    }
   },
   "cell_type": "code",
   "source": "scaler.fit(Input_data)",
   "id": "eb985882a40202a",
   "outputs": [
    {
     "data": {
      "text/plain": [
       "StandardScaler()"
      ],
      "text/html": [
       "<style>#sk-container-id-1 {\n",
       "  /* Definition of color scheme common for light and dark mode */\n",
       "  --sklearn-color-text: black;\n",
       "  --sklearn-color-line: gray;\n",
       "  /* Definition of color scheme for unfitted estimators */\n",
       "  --sklearn-color-unfitted-level-0: #fff5e6;\n",
       "  --sklearn-color-unfitted-level-1: #f6e4d2;\n",
       "  --sklearn-color-unfitted-level-2: #ffe0b3;\n",
       "  --sklearn-color-unfitted-level-3: chocolate;\n",
       "  /* Definition of color scheme for fitted estimators */\n",
       "  --sklearn-color-fitted-level-0: #f0f8ff;\n",
       "  --sklearn-color-fitted-level-1: #d4ebff;\n",
       "  --sklearn-color-fitted-level-2: #b3dbfd;\n",
       "  --sklearn-color-fitted-level-3: cornflowerblue;\n",
       "\n",
       "  /* Specific color for light theme */\n",
       "  --sklearn-color-text-on-default-background: var(--sg-text-color, var(--theme-code-foreground, var(--jp-content-font-color1, black)));\n",
       "  --sklearn-color-background: var(--sg-background-color, var(--theme-background, var(--jp-layout-color0, white)));\n",
       "  --sklearn-color-border-box: var(--sg-text-color, var(--theme-code-foreground, var(--jp-content-font-color1, black)));\n",
       "  --sklearn-color-icon: #696969;\n",
       "\n",
       "  @media (prefers-color-scheme: dark) {\n",
       "    /* Redefinition of color scheme for dark theme */\n",
       "    --sklearn-color-text-on-default-background: var(--sg-text-color, var(--theme-code-foreground, var(--jp-content-font-color1, white)));\n",
       "    --sklearn-color-background: var(--sg-background-color, var(--theme-background, var(--jp-layout-color0, #111)));\n",
       "    --sklearn-color-border-box: var(--sg-text-color, var(--theme-code-foreground, var(--jp-content-font-color1, white)));\n",
       "    --sklearn-color-icon: #878787;\n",
       "  }\n",
       "}\n",
       "\n",
       "#sk-container-id-1 {\n",
       "  color: var(--sklearn-color-text);\n",
       "}\n",
       "\n",
       "#sk-container-id-1 pre {\n",
       "  padding: 0;\n",
       "}\n",
       "\n",
       "#sk-container-id-1 input.sk-hidden--visually {\n",
       "  border: 0;\n",
       "  clip: rect(1px 1px 1px 1px);\n",
       "  clip: rect(1px, 1px, 1px, 1px);\n",
       "  height: 1px;\n",
       "  margin: -1px;\n",
       "  overflow: hidden;\n",
       "  padding: 0;\n",
       "  position: absolute;\n",
       "  width: 1px;\n",
       "}\n",
       "\n",
       "#sk-container-id-1 div.sk-dashed-wrapped {\n",
       "  border: 1px dashed var(--sklearn-color-line);\n",
       "  margin: 0 0.4em 0.5em 0.4em;\n",
       "  box-sizing: border-box;\n",
       "  padding-bottom: 0.4em;\n",
       "  background-color: var(--sklearn-color-background);\n",
       "}\n",
       "\n",
       "#sk-container-id-1 div.sk-container {\n",
       "  /* jupyter's `normalize.less` sets `[hidden] { display: none; }`\n",
       "     but bootstrap.min.css set `[hidden] { display: none !important; }`\n",
       "     so we also need the `!important` here to be able to override the\n",
       "     default hidden behavior on the sphinx rendered scikit-learn.org.\n",
       "     See: https://github.com/scikit-learn/scikit-learn/issues/21755 */\n",
       "  display: inline-block !important;\n",
       "  position: relative;\n",
       "}\n",
       "\n",
       "#sk-container-id-1 div.sk-text-repr-fallback {\n",
       "  display: none;\n",
       "}\n",
       "\n",
       "div.sk-parallel-item,\n",
       "div.sk-serial,\n",
       "div.sk-item {\n",
       "  /* draw centered vertical line to link estimators */\n",
       "  background-image: linear-gradient(var(--sklearn-color-text-on-default-background), var(--sklearn-color-text-on-default-background));\n",
       "  background-size: 2px 100%;\n",
       "  background-repeat: no-repeat;\n",
       "  background-position: center center;\n",
       "}\n",
       "\n",
       "/* Parallel-specific style estimator block */\n",
       "\n",
       "#sk-container-id-1 div.sk-parallel-item::after {\n",
       "  content: \"\";\n",
       "  width: 100%;\n",
       "  border-bottom: 2px solid var(--sklearn-color-text-on-default-background);\n",
       "  flex-grow: 1;\n",
       "}\n",
       "\n",
       "#sk-container-id-1 div.sk-parallel {\n",
       "  display: flex;\n",
       "  align-items: stretch;\n",
       "  justify-content: center;\n",
       "  background-color: var(--sklearn-color-background);\n",
       "  position: relative;\n",
       "}\n",
       "\n",
       "#sk-container-id-1 div.sk-parallel-item {\n",
       "  display: flex;\n",
       "  flex-direction: column;\n",
       "}\n",
       "\n",
       "#sk-container-id-1 div.sk-parallel-item:first-child::after {\n",
       "  align-self: flex-end;\n",
       "  width: 50%;\n",
       "}\n",
       "\n",
       "#sk-container-id-1 div.sk-parallel-item:last-child::after {\n",
       "  align-self: flex-start;\n",
       "  width: 50%;\n",
       "}\n",
       "\n",
       "#sk-container-id-1 div.sk-parallel-item:only-child::after {\n",
       "  width: 0;\n",
       "}\n",
       "\n",
       "/* Serial-specific style estimator block */\n",
       "\n",
       "#sk-container-id-1 div.sk-serial {\n",
       "  display: flex;\n",
       "  flex-direction: column;\n",
       "  align-items: center;\n",
       "  background-color: var(--sklearn-color-background);\n",
       "  padding-right: 1em;\n",
       "  padding-left: 1em;\n",
       "}\n",
       "\n",
       "\n",
       "/* Toggleable style: style used for estimator/Pipeline/ColumnTransformer box that is\n",
       "clickable and can be expanded/collapsed.\n",
       "- Pipeline and ColumnTransformer use this feature and define the default style\n",
       "- Estimators will overwrite some part of the style using the `sk-estimator` class\n",
       "*/\n",
       "\n",
       "/* Pipeline and ColumnTransformer style (default) */\n",
       "\n",
       "#sk-container-id-1 div.sk-toggleable {\n",
       "  /* Default theme specific background. It is overwritten whether we have a\n",
       "  specific estimator or a Pipeline/ColumnTransformer */\n",
       "  background-color: var(--sklearn-color-background);\n",
       "}\n",
       "\n",
       "/* Toggleable label */\n",
       "#sk-container-id-1 label.sk-toggleable__label {\n",
       "  cursor: pointer;\n",
       "  display: block;\n",
       "  width: 100%;\n",
       "  margin-bottom: 0;\n",
       "  padding: 0.5em;\n",
       "  box-sizing: border-box;\n",
       "  text-align: center;\n",
       "}\n",
       "\n",
       "#sk-container-id-1 label.sk-toggleable__label-arrow:before {\n",
       "  /* Arrow on the left of the label */\n",
       "  content: \"▸\";\n",
       "  float: left;\n",
       "  margin-right: 0.25em;\n",
       "  color: var(--sklearn-color-icon);\n",
       "}\n",
       "\n",
       "#sk-container-id-1 label.sk-toggleable__label-arrow:hover:before {\n",
       "  color: var(--sklearn-color-text);\n",
       "}\n",
       "\n",
       "/* Toggleable content - dropdown */\n",
       "\n",
       "#sk-container-id-1 div.sk-toggleable__content {\n",
       "  max-height: 0;\n",
       "  max-width: 0;\n",
       "  overflow: hidden;\n",
       "  text-align: left;\n",
       "  /* unfitted */\n",
       "  background-color: var(--sklearn-color-unfitted-level-0);\n",
       "}\n",
       "\n",
       "#sk-container-id-1 div.sk-toggleable__content.fitted {\n",
       "  /* fitted */\n",
       "  background-color: var(--sklearn-color-fitted-level-0);\n",
       "}\n",
       "\n",
       "#sk-container-id-1 div.sk-toggleable__content pre {\n",
       "  margin: 0.2em;\n",
       "  border-radius: 0.25em;\n",
       "  color: var(--sklearn-color-text);\n",
       "  /* unfitted */\n",
       "  background-color: var(--sklearn-color-unfitted-level-0);\n",
       "}\n",
       "\n",
       "#sk-container-id-1 div.sk-toggleable__content.fitted pre {\n",
       "  /* unfitted */\n",
       "  background-color: var(--sklearn-color-fitted-level-0);\n",
       "}\n",
       "\n",
       "#sk-container-id-1 input.sk-toggleable__control:checked~div.sk-toggleable__content {\n",
       "  /* Expand drop-down */\n",
       "  max-height: 200px;\n",
       "  max-width: 100%;\n",
       "  overflow: auto;\n",
       "}\n",
       "\n",
       "#sk-container-id-1 input.sk-toggleable__control:checked~label.sk-toggleable__label-arrow:before {\n",
       "  content: \"▾\";\n",
       "}\n",
       "\n",
       "/* Pipeline/ColumnTransformer-specific style */\n",
       "\n",
       "#sk-container-id-1 div.sk-label input.sk-toggleable__control:checked~label.sk-toggleable__label {\n",
       "  color: var(--sklearn-color-text);\n",
       "  background-color: var(--sklearn-color-unfitted-level-2);\n",
       "}\n",
       "\n",
       "#sk-container-id-1 div.sk-label.fitted input.sk-toggleable__control:checked~label.sk-toggleable__label {\n",
       "  background-color: var(--sklearn-color-fitted-level-2);\n",
       "}\n",
       "\n",
       "/* Estimator-specific style */\n",
       "\n",
       "/* Colorize estimator box */\n",
       "#sk-container-id-1 div.sk-estimator input.sk-toggleable__control:checked~label.sk-toggleable__label {\n",
       "  /* unfitted */\n",
       "  background-color: var(--sklearn-color-unfitted-level-2);\n",
       "}\n",
       "\n",
       "#sk-container-id-1 div.sk-estimator.fitted input.sk-toggleable__control:checked~label.sk-toggleable__label {\n",
       "  /* fitted */\n",
       "  background-color: var(--sklearn-color-fitted-level-2);\n",
       "}\n",
       "\n",
       "#sk-container-id-1 div.sk-label label.sk-toggleable__label,\n",
       "#sk-container-id-1 div.sk-label label {\n",
       "  /* The background is the default theme color */\n",
       "  color: var(--sklearn-color-text-on-default-background);\n",
       "}\n",
       "\n",
       "/* On hover, darken the color of the background */\n",
       "#sk-container-id-1 div.sk-label:hover label.sk-toggleable__label {\n",
       "  color: var(--sklearn-color-text);\n",
       "  background-color: var(--sklearn-color-unfitted-level-2);\n",
       "}\n",
       "\n",
       "/* Label box, darken color on hover, fitted */\n",
       "#sk-container-id-1 div.sk-label.fitted:hover label.sk-toggleable__label.fitted {\n",
       "  color: var(--sklearn-color-text);\n",
       "  background-color: var(--sklearn-color-fitted-level-2);\n",
       "}\n",
       "\n",
       "/* Estimator label */\n",
       "\n",
       "#sk-container-id-1 div.sk-label label {\n",
       "  font-family: monospace;\n",
       "  font-weight: bold;\n",
       "  display: inline-block;\n",
       "  line-height: 1.2em;\n",
       "}\n",
       "\n",
       "#sk-container-id-1 div.sk-label-container {\n",
       "  text-align: center;\n",
       "}\n",
       "\n",
       "/* Estimator-specific */\n",
       "#sk-container-id-1 div.sk-estimator {\n",
       "  font-family: monospace;\n",
       "  border: 1px dotted var(--sklearn-color-border-box);\n",
       "  border-radius: 0.25em;\n",
       "  box-sizing: border-box;\n",
       "  margin-bottom: 0.5em;\n",
       "  /* unfitted */\n",
       "  background-color: var(--sklearn-color-unfitted-level-0);\n",
       "}\n",
       "\n",
       "#sk-container-id-1 div.sk-estimator.fitted {\n",
       "  /* fitted */\n",
       "  background-color: var(--sklearn-color-fitted-level-0);\n",
       "}\n",
       "\n",
       "/* on hover */\n",
       "#sk-container-id-1 div.sk-estimator:hover {\n",
       "  /* unfitted */\n",
       "  background-color: var(--sklearn-color-unfitted-level-2);\n",
       "}\n",
       "\n",
       "#sk-container-id-1 div.sk-estimator.fitted:hover {\n",
       "  /* fitted */\n",
       "  background-color: var(--sklearn-color-fitted-level-2);\n",
       "}\n",
       "\n",
       "/* Specification for estimator info (e.g. \"i\" and \"?\") */\n",
       "\n",
       "/* Common style for \"i\" and \"?\" */\n",
       "\n",
       ".sk-estimator-doc-link,\n",
       "a:link.sk-estimator-doc-link,\n",
       "a:visited.sk-estimator-doc-link {\n",
       "  float: right;\n",
       "  font-size: smaller;\n",
       "  line-height: 1em;\n",
       "  font-family: monospace;\n",
       "  background-color: var(--sklearn-color-background);\n",
       "  border-radius: 1em;\n",
       "  height: 1em;\n",
       "  width: 1em;\n",
       "  text-decoration: none !important;\n",
       "  margin-left: 1ex;\n",
       "  /* unfitted */\n",
       "  border: var(--sklearn-color-unfitted-level-1) 1pt solid;\n",
       "  color: var(--sklearn-color-unfitted-level-1);\n",
       "}\n",
       "\n",
       ".sk-estimator-doc-link.fitted,\n",
       "a:link.sk-estimator-doc-link.fitted,\n",
       "a:visited.sk-estimator-doc-link.fitted {\n",
       "  /* fitted */\n",
       "  border: var(--sklearn-color-fitted-level-1) 1pt solid;\n",
       "  color: var(--sklearn-color-fitted-level-1);\n",
       "}\n",
       "\n",
       "/* On hover */\n",
       "div.sk-estimator:hover .sk-estimator-doc-link:hover,\n",
       ".sk-estimator-doc-link:hover,\n",
       "div.sk-label-container:hover .sk-estimator-doc-link:hover,\n",
       ".sk-estimator-doc-link:hover {\n",
       "  /* unfitted */\n",
       "  background-color: var(--sklearn-color-unfitted-level-3);\n",
       "  color: var(--sklearn-color-background);\n",
       "  text-decoration: none;\n",
       "}\n",
       "\n",
       "div.sk-estimator.fitted:hover .sk-estimator-doc-link.fitted:hover,\n",
       ".sk-estimator-doc-link.fitted:hover,\n",
       "div.sk-label-container:hover .sk-estimator-doc-link.fitted:hover,\n",
       ".sk-estimator-doc-link.fitted:hover {\n",
       "  /* fitted */\n",
       "  background-color: var(--sklearn-color-fitted-level-3);\n",
       "  color: var(--sklearn-color-background);\n",
       "  text-decoration: none;\n",
       "}\n",
       "\n",
       "/* Span, style for the box shown on hovering the info icon */\n",
       ".sk-estimator-doc-link span {\n",
       "  display: none;\n",
       "  z-index: 9999;\n",
       "  position: relative;\n",
       "  font-weight: normal;\n",
       "  right: .2ex;\n",
       "  padding: .5ex;\n",
       "  margin: .5ex;\n",
       "  width: min-content;\n",
       "  min-width: 20ex;\n",
       "  max-width: 50ex;\n",
       "  color: var(--sklearn-color-text);\n",
       "  box-shadow: 2pt 2pt 4pt #999;\n",
       "  /* unfitted */\n",
       "  background: var(--sklearn-color-unfitted-level-0);\n",
       "  border: .5pt solid var(--sklearn-color-unfitted-level-3);\n",
       "}\n",
       "\n",
       ".sk-estimator-doc-link.fitted span {\n",
       "  /* fitted */\n",
       "  background: var(--sklearn-color-fitted-level-0);\n",
       "  border: var(--sklearn-color-fitted-level-3);\n",
       "}\n",
       "\n",
       ".sk-estimator-doc-link:hover span {\n",
       "  display: block;\n",
       "}\n",
       "\n",
       "/* \"?\"-specific style due to the `<a>` HTML tag */\n",
       "\n",
       "#sk-container-id-1 a.estimator_doc_link {\n",
       "  float: right;\n",
       "  font-size: 1rem;\n",
       "  line-height: 1em;\n",
       "  font-family: monospace;\n",
       "  background-color: var(--sklearn-color-background);\n",
       "  border-radius: 1rem;\n",
       "  height: 1rem;\n",
       "  width: 1rem;\n",
       "  text-decoration: none;\n",
       "  /* unfitted */\n",
       "  color: var(--sklearn-color-unfitted-level-1);\n",
       "  border: var(--sklearn-color-unfitted-level-1) 1pt solid;\n",
       "}\n",
       "\n",
       "#sk-container-id-1 a.estimator_doc_link.fitted {\n",
       "  /* fitted */\n",
       "  border: var(--sklearn-color-fitted-level-1) 1pt solid;\n",
       "  color: var(--sklearn-color-fitted-level-1);\n",
       "}\n",
       "\n",
       "/* On hover */\n",
       "#sk-container-id-1 a.estimator_doc_link:hover {\n",
       "  /* unfitted */\n",
       "  background-color: var(--sklearn-color-unfitted-level-3);\n",
       "  color: var(--sklearn-color-background);\n",
       "  text-decoration: none;\n",
       "}\n",
       "\n",
       "#sk-container-id-1 a.estimator_doc_link.fitted:hover {\n",
       "  /* fitted */\n",
       "  background-color: var(--sklearn-color-fitted-level-3);\n",
       "}\n",
       "</style><div id=\"sk-container-id-1\" class=\"sk-top-container\"><div class=\"sk-text-repr-fallback\"><pre>StandardScaler()</pre><b>In a Jupyter environment, please rerun this cell to show the HTML representation or trust the notebook. <br />On GitHub, the HTML representation is unable to render, please try loading this page with nbviewer.org.</b></div><div class=\"sk-container\" hidden><div class=\"sk-item\"><div class=\"sk-estimator fitted sk-toggleable\"><input class=\"sk-toggleable__control sk-hidden--visually\" id=\"sk-estimator-id-1\" type=\"checkbox\" checked><label for=\"sk-estimator-id-1\" class=\"sk-toggleable__label fitted sk-toggleable__label-arrow fitted\">&nbsp;&nbsp;StandardScaler<a class=\"sk-estimator-doc-link fitted\" rel=\"noreferrer\" target=\"_blank\" href=\"https://scikit-learn.org/1.4/modules/generated/sklearn.preprocessing.StandardScaler.html\">?<span>Documentation for StandardScaler</span></a><span class=\"sk-estimator-doc-link fitted\">i<span>Fitted</span></span></label><div class=\"sk-toggleable__content fitted\"><pre>StandardScaler()</pre></div> </div></div></div></div>"
      ]
     },
     "execution_count": 16,
     "metadata": {},
     "output_type": "execute_result"
    }
   ],
   "execution_count": 16
  },
  {
   "metadata": {
    "ExecuteTime": {
     "end_time": "2025-03-02T11:07:17.945889Z",
     "start_time": "2025-03-02T11:07:17.905247Z"
    }
   },
   "cell_type": "code",
   "source": "standardized_data = scaler.transform(Input_data)",
   "id": "7341c165aaa07338",
   "outputs": [],
   "execution_count": 17
  },
  {
   "metadata": {
    "ExecuteTime": {
     "end_time": "2025-03-02T11:07:18.793936Z",
     "start_time": "2025-03-02T11:07:18.790395Z"
    }
   },
   "cell_type": "code",
   "source": "print(standardized_data)",
   "id": "29ebe8cf1082d612",
   "outputs": [
    {
     "name": "stdout",
     "output_type": "stream",
     "text": [
      "[[ 1.09607085  0.65387884 -0.86637244 ...  1.01489634  2.11182527\n",
      "   1.49466925]\n",
      " [ 0.63303449  0.65387884  1.21537835 ...  1.01489634  2.11182527\n",
      "   1.49466925]\n",
      " [ 1.0299228   0.65387884  0.62515545 ...  1.01489634  2.11182527\n",
      "   1.49466925]\n",
      " ...\n",
      " [ 0.43459033 -0.95545104 -2.44800539 ...  1.01489634 -0.47352402\n",
      "  -0.66904434]\n",
      " [-0.29303824 -0.95545104 -2.48634594 ... -0.9853223  -0.47352402\n",
      "  -0.66904434]\n",
      " [ 0.50073838 -0.95545104  1.71808457 ... -0.9853223  -0.47352402\n",
      "  -0.66904434]]\n"
     ]
    }
   ],
   "execution_count": 18
  },
  {
   "metadata": {
    "ExecuteTime": {
     "end_time": "2025-03-02T11:07:19.747979Z",
     "start_time": "2025-03-02T11:07:19.745236Z"
    }
   },
   "cell_type": "code",
   "source": "Input_data = standardized_data",
   "id": "2dda475a6e8ee912",
   "outputs": [],
   "execution_count": 19
  },
  {
   "metadata": {
    "ExecuteTime": {
     "end_time": "2025-03-02T11:07:20.576859Z",
     "start_time": "2025-03-02T11:07:20.539457Z"
    }
   },
   "cell_type": "code",
   "source": "X_train, X_test, Y_train, Y_test = train_test_split(Input_data, Labels, test_size=0.2, stratify=Labels, random_state=2)",
   "id": "52c3892b3f00248c",
   "outputs": [],
   "execution_count": 20
  },
  {
   "metadata": {
    "ExecuteTime": {
     "end_time": "2025-03-02T11:07:21.453928Z",
     "start_time": "2025-03-02T11:07:21.450938Z"
    }
   },
   "cell_type": "code",
   "source": "Input_data.shape, X_train.shape, X_test.shape",
   "id": "75a417d1de454160",
   "outputs": [
    {
     "data": {
      "text/plain": [
       "((129452, 22), (103561, 22), (25891, 22))"
      ]
     },
     "execution_count": 21,
     "metadata": {},
     "output_type": "execute_result"
    }
   ],
   "execution_count": 21
  },
  {
   "metadata": {
    "ExecuteTime": {
     "end_time": "2025-03-02T11:07:22.191480Z",
     "start_time": "2025-03-02T11:07:22.189550Z"
    }
   },
   "cell_type": "code",
   "source": [
    "\n",
    "#training the model\n",
    "classifier_linear = svm.SVC( C=1.0 ,kernel='linear')"
   ],
   "id": "59cfcbc74faf1dae",
   "outputs": [],
   "execution_count": 22
  },
  {
   "metadata": {
    "ExecuteTime": {
     "end_time": "2025-03-02T11:07:23.103316Z",
     "start_time": "2025-03-02T11:07:23.096508Z"
    }
   },
   "cell_type": "code",
   "source": "df.isna().sum()\n",
   "id": "aa5f6206e6889861",
   "outputs": [
    {
     "data": {
      "text/plain": [
       "satisfaction_v2                      0\n",
       "Age                                  0\n",
       "Class                                0\n",
       "Flight Distance                      0\n",
       "Inflight wifi service                0\n",
       "Departure/Arrival time convenient    0\n",
       "Ease of Online booking               0\n",
       "Gate location                        0\n",
       "Food and drink                       0\n",
       "Online boarding                      0\n",
       "Seat comfort                         0\n",
       "Inflight entertainment               0\n",
       "On-board service                     0\n",
       "Leg room service                     0\n",
       "Baggage handling                     0\n",
       "Checkin service                      0\n",
       "Inflight service                     0\n",
       "Cleanliness                          0\n",
       "Departure Delay in Minutes           0\n",
       "Arrival Delay in Minutes             0\n",
       "Gender_Male                          0\n",
       "Customer Type_disloyal Customer      0\n",
       "Type of Travel_Personal Travel       0\n",
       "dtype: int64"
      ]
     },
     "execution_count": 23,
     "metadata": {},
     "output_type": "execute_result"
    }
   ],
   "execution_count": 23
  },
  {
   "metadata": {
    "ExecuteTime": {
     "end_time": "2025-03-02T11:07:31.063798Z",
     "start_time": "2025-03-02T11:07:31.059504Z"
    }
   },
   "cell_type": "code",
   "source": [
    "\n",
    "\n",
    "def train_and_evaluate_svc(X_train, Y_train, X_test=None, Y_test=None, kernel='sigmoid', C=1.0):\n",
    "     \n",
    "    # 1. Create the SVC with the chosen kernel and C\n",
    "    classifier = svm.SVC(kernel=kernel, C=C)\n",
    "\n",
    "    # 2. Fit on the training data\n",
    "    classifier.fit(X_train, Y_train)\n",
    "\n",
    "    # 3. Evaluate on the training data\n",
    "    train_preds = classifier.predict(X_train)\n",
    "    train_accuracy = accuracy_score(Y_train, train_preds)\n",
    "    train_precision = precision_score(Y_train, train_preds, average='macro')\n",
    "    train_recall = recall_score(Y_train, train_preds, average='macro')\n",
    "    train_f1 = f1_score(Y_train, train_preds, average='macro')\n",
    "\n",
    "    # 4. Evaluate on the test data (if provided)\n",
    "    test_accuracy = None\n",
    "    test_precision = None\n",
    "    test_recall = None\n",
    "    test_f1 = None\n",
    "\n",
    "    if X_test is not None and Y_test is not None:\n",
    "        test_preds = classifier.predict(X_test)\n",
    "        test_accuracy = accuracy_score(Y_test, test_preds)\n",
    "        test_precision = precision_score(Y_test, test_preds, average='macro')\n",
    "        test_recall = recall_score(Y_test, test_preds, average='macro')\n",
    "        test_f1 = f1_score(Y_test, test_preds, average='macro')\n",
    "\n",
    "    # Print metrics\n",
    "    print(f\"Kernel: {kernel}, C: {C}\")\n",
    "    print(f\"Training Accuracy: {train_accuracy:.4f}\")\n",
    "    print(f\"Training Precision (macro): {train_precision:.4f}\")\n",
    "    print(f\"Training Recall (macro): {train_recall:.4f}\")\n",
    "    print(f\"Training F1-score (macro): {train_f1:.4f}\")\n",
    "\n",
    "    if test_accuracy is not None:\n",
    "        print(f\"Test Accuracy: {test_accuracy:.4f}\")\n",
    "        print(f\"Test Precision (macro): {test_precision:.4f}\")\n",
    "        print(f\"Test Recall (macro): {test_recall:.4f}\")\n",
    "        print(f\"Test F1-score (macro): {test_f1:.4f}\")\n",
    "\n",
    "    # Return the classifier and metrics\n",
    "    return (\n",
    "        classifier,\n",
    "        (train_accuracy, train_precision, train_recall, train_f1),\n",
    "        (test_accuracy, test_precision, test_recall, test_f1),\n",
    "    )\n"
   ],
   "id": "1c0aef4626bdb3a5",
   "outputs": [],
   "execution_count": 24
  },
  {
   "metadata": {
    "ExecuteTime": {
     "end_time": "2025-03-02T11:17:57.692139Z",
     "start_time": "2025-03-02T11:07:32.102805Z"
    }
   },
   "cell_type": "code",
   "source": [
    "# Example usage:\n",
    "clf, (train_acc, train_prec, train_rec, train_f1), (test_acc, test_prec, test_rec, test_f1) = \\\n",
    "    train_and_evaluate_svc(X_train, Y_train, X_test, Y_test, kernel='sigmoid', C=1.0)\n"
   ],
   "id": "68467ae6e94bd908",
   "outputs": [
    {
     "name": "stdout",
     "output_type": "stream",
     "text": [
      "Kernel: sigmoid, C: 1.0\n",
      "Training Accuracy: 0.7895\n",
      "Training Precision (macro): 0.7859\n",
      "Training Recall (macro): 0.7858\n",
      "Training F1-score (macro): 0.7858\n",
      "Test Accuracy: 0.7882\n",
      "Test Precision (macro): 0.7845\n",
      "Test Recall (macro): 0.7839\n",
      "Test F1-score (macro): 0.7842\n"
     ]
    }
   ],
   "execution_count": 25
  },
  {
   "metadata": {
    "ExecuteTime": {
     "end_time": "2025-02-24T10:34:04.100245Z",
     "start_time": "2025-02-24T10:31:42.055402Z"
    }
   },
   "cell_type": "code",
   "source": [
    "\n",
    "clf, (train_acc, train_prec, train_rec, train_f1), (test_acc, test_prec, test_rec, test_f1) = \\\n",
    "    train_and_evaluate_svc(X_train, Y_train, X_test, Y_test, kernel='rbf', C=1.0)"
   ],
   "id": "7ec5321381aacedf",
   "outputs": [
    {
     "name": "stdout",
     "output_type": "stream",
     "text": [
      "Kernel: rbf, C: 1.0\n",
      "Training Accuracy: 0.9589\n",
      "Training Precision (macro): 0.9597\n",
      "Training Recall (macro): 0.9567\n",
      "Training F1-score (macro): 0.9581\n",
      "Test Accuracy: 0.9531\n",
      "Test Precision (macro): 0.9536\n",
      "Test Recall (macro): 0.9508\n",
      "Test F1-score (macro): 0.9521\n"
     ]
    }
   ],
   "execution_count": 24
  },
  {
   "metadata": {
    "ExecuteTime": {
     "end_time": "2025-02-24T10:38:33.920231Z",
     "start_time": "2025-02-24T10:37:06.363132Z"
    }
   },
   "cell_type": "code",
   "source": [
    "\n",
    "clf, (train_acc, train_prec, train_rec, train_f1), (test_acc, test_prec, test_rec, test_f1) = \\\n",
    "    train_and_evaluate_svc(X_train, Y_train, X_test, Y_test, kernel='poly', C=1.0)"
   ],
   "id": "40e5beea849970fb",
   "outputs": [
    {
     "name": "stdout",
     "output_type": "stream",
     "text": [
      "Kernel: poly, C: 1.0\n",
      "Training Accuracy: 0.9463\n",
      "Training Precision (macro): 0.9470\n",
      "Training Recall (macro): 0.9436\n",
      "Training F1-score (macro): 0.9451\n",
      "Test Accuracy: 0.9404\n",
      "Test Precision (macro): 0.9411\n",
      "Test Recall (macro): 0.9375\n",
      "Test F1-score (macro): 0.9391\n"
     ]
    }
   ],
   "execution_count": 25
  },
  {
   "metadata": {},
   "cell_type": "code",
   "outputs": [],
   "execution_count": null,
   "source": "",
   "id": "edd9cdb674c94bd6"
  }
 ],
 "metadata": {
  "kernelspec": {
   "display_name": "Python 3",
   "language": "python",
   "name": "python3"
  },
  "language_info": {
   "codemirror_mode": {
    "name": "ipython",
    "version": 2
   },
   "file_extension": ".py",
   "mimetype": "text/x-python",
   "name": "python",
   "nbconvert_exporter": "python",
   "pygments_lexer": "ipython2",
   "version": "2.7.6"
  }
 },
 "nbformat": 4,
 "nbformat_minor": 5
}
