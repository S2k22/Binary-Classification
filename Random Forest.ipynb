{
 "cells": [
  {
   "metadata": {},
   "cell_type": "markdown",
   "source": "## Importing Libraries and Dataset",
   "id": "8a68921b99aa789b"
  },
  {
   "metadata": {},
   "cell_type": "code",
   "outputs": [],
   "execution_count": null,
   "source": [
    "\n",
    "import pandas as pd\n",
    "from sklearn.model_selection import train_test_split\n",
    "from sklearn.preprocessing import LabelEncoder\n",
    "from sklearn.preprocessing import RobustScaler\n",
    "from sklearn.ensemble import RandomForestClassifier\n",
    "from sklearn.metrics import classification_report   \n",
    "%matplotlib inline"
   ],
   "id": "b08b3935d7ca6e03"
  },
  {
   "metadata": {
    "ExecuteTime": {
     "end_time": "2025-03-17T12:46:36.527024Z",
     "start_time": "2025-03-17T12:46:36.524809Z"
    }
   },
   "cell_type": "code",
   "source": [
    "import warnings\n",
    "warnings.filterwarnings(action='ignore')"
   ],
   "id": "fcb1a7ab7f27943a",
   "outputs": [],
   "execution_count": 2
  },
  {
   "metadata": {
    "ExecuteTime": {
     "end_time": "2025-03-17T12:46:37.967134Z",
     "start_time": "2025-03-17T12:46:37.837993Z"
    }
   },
   "cell_type": "code",
   "source": [
    "file_path=\"C:/Users/Mike/PycharmProjects/Portfolio_Projectv2/satisfaction_log_no_outliers.csv\"\n",
    "df = pd.read_csv(file_path)"
   ],
   "id": "b318171e2064d4ac",
   "outputs": [],
   "execution_count": 3
  },
  {
   "metadata": {},
   "cell_type": "markdown",
   "source": "## Dropping Id column and doing encoding",
   "id": "364275218ab34844"
  },
  {
   "metadata": {
    "ExecuteTime": {
     "end_time": "2025-03-17T12:46:38.898847Z",
     "start_time": "2025-03-17T12:46:38.889323Z"
    }
   },
   "cell_type": "code",
   "source": "df.drop(columns=['id'], inplace=True)",
   "id": "cbf4f0e9b584afd6",
   "outputs": [],
   "execution_count": 4
  },
  {
   "metadata": {
    "ExecuteTime": {
     "end_time": "2025-03-17T12:46:39.462746Z",
     "start_time": "2025-03-17T12:46:39.428517Z"
    }
   },
   "cell_type": "code",
   "source": "df = pd.get_dummies(df, columns=['Gender', 'Customer Type', 'Type of Travel'], drop_first=True)",
   "id": "edd96823d5b9515c",
   "outputs": [],
   "execution_count": 5
  },
  {
   "metadata": {
    "ExecuteTime": {
     "end_time": "2025-03-17T12:46:39.839002Z",
     "start_time": "2025-03-17T12:46:39.827585Z"
    }
   },
   "cell_type": "code",
   "source": [
    "le = LabelEncoder()\n",
    "df['Class'] = le.fit_transform(df['Class'])"
   ],
   "id": "ec8e4d48353f5880",
   "outputs": [],
   "execution_count": 6
  },
  {
   "metadata": {
    "ExecuteTime": {
     "end_time": "2025-03-17T12:46:40.154526Z",
     "start_time": "2025-03-17T12:46:40.147542Z"
    }
   },
   "cell_type": "code",
   "source": "df['satisfaction_v2'] = df['satisfaction_v2'].map({'satisfied': 1, 'neutral or dissatisfied': 0})",
   "id": "e3fad648eb34378e",
   "outputs": [],
   "execution_count": 7
  },
  {
   "metadata": {
    "ExecuteTime": {
     "end_time": "2025-03-17T12:46:40.522060Z",
     "start_time": "2025-03-17T12:46:40.467644Z"
    }
   },
   "cell_type": "code",
   "source": "df.describe().T",
   "id": "d8edb80cc63d6d0a",
   "outputs": [
    {
     "data": {
      "text/plain": [
       "                                      count       mean        std       min  \\\n",
       "satisfaction_v2                    129452.0   0.434532   0.495697  0.000000   \n",
       "Age                                129452.0  39.430036  15.117662  7.000000   \n",
       "Class                              129452.0   0.593695   0.621379  0.000000   \n",
       "Flight Distance                    129452.0   6.706453   0.915257  4.043051   \n",
       "Inflight wifi service              129452.0   2.728602   1.329245  0.000000   \n",
       "Departure/Arrival time convenient  129452.0   3.057303   1.526758  0.000000   \n",
       "Ease of Online booking             129452.0   2.756875   1.401652  0.000000   \n",
       "Gate location                      129452.0   2.976964   1.278481  0.000000   \n",
       "Food and drink                     129452.0   3.204833   1.329845  0.000000   \n",
       "Online boarding                    129452.0   3.252773   1.350596  0.000000   \n",
       "Seat comfort                       129452.0   3.441724   1.319098  0.000000   \n",
       "Inflight entertainment             129452.0   3.358102   1.334148  0.000000   \n",
       "On-board service                   129452.0   3.383223   1.287033  0.000000   \n",
       "Leg room service                   129452.0   3.351034   1.316158  0.000000   \n",
       "Baggage handling                   129452.0   3.631825   1.180091  1.000000   \n",
       "Checkin service                    129452.0   3.306229   1.266098  0.000000   \n",
       "Inflight service                   129452.0   3.642532   1.176537  0.000000   \n",
       "Cleanliness                        129452.0   3.286315   1.313578  0.000000   \n",
       "Departure Delay in Minutes         129452.0   1.230104   1.614236  0.000000   \n",
       "Arrival Delay in Minutes           129452.0   1.262408   1.628328  0.000000   \n",
       "\n",
       "                                         25%        50%        75%        max  \n",
       "satisfaction_v2                     0.000000   0.000000   1.000000   1.000000  \n",
       "Age                                27.000000  40.000000  51.000000  85.000000  \n",
       "Class                               0.000000   1.000000   1.000000   2.000000  \n",
       "Flight Distance                     6.028279   6.739337   7.464510   8.513988  \n",
       "Inflight wifi service               2.000000   3.000000   4.000000   5.000000  \n",
       "Departure/Arrival time convenient   2.000000   3.000000   4.000000   5.000000  \n",
       "Ease of Online booking              2.000000   3.000000   4.000000   5.000000  \n",
       "Gate location                       2.000000   3.000000   4.000000   5.000000  \n",
       "Food and drink                      2.000000   3.000000   4.000000   5.000000  \n",
       "Online boarding                     2.000000   3.000000   4.000000   5.000000  \n",
       "Seat comfort                        2.000000   4.000000   5.000000   5.000000  \n",
       "Inflight entertainment              2.000000   4.000000   4.000000   5.000000  \n",
       "On-board service                    2.000000   4.000000   4.000000   5.000000  \n",
       "Leg room service                    2.000000   4.000000   4.000000   5.000000  \n",
       "Baggage handling                    3.000000   4.000000   5.000000   5.000000  \n",
       "Checkin service                     3.000000   3.000000   4.000000   5.000000  \n",
       "Inflight service                    3.000000   4.000000   5.000000   5.000000  \n",
       "Cleanliness                         2.000000   3.000000   4.000000   5.000000  \n",
       "Departure Delay in Minutes          0.000000   0.000000   2.564949   6.398595  \n",
       "Arrival Delay in Minutes            0.000000   0.000000   2.639057   6.437752  "
      ],
      "text/html": [
       "<div>\n",
       "<style scoped>\n",
       "    .dataframe tbody tr th:only-of-type {\n",
       "        vertical-align: middle;\n",
       "    }\n",
       "\n",
       "    .dataframe tbody tr th {\n",
       "        vertical-align: top;\n",
       "    }\n",
       "\n",
       "    .dataframe thead th {\n",
       "        text-align: right;\n",
       "    }\n",
       "</style>\n",
       "<table border=\"1\" class=\"dataframe\">\n",
       "  <thead>\n",
       "    <tr style=\"text-align: right;\">\n",
       "      <th></th>\n",
       "      <th>count</th>\n",
       "      <th>mean</th>\n",
       "      <th>std</th>\n",
       "      <th>min</th>\n",
       "      <th>25%</th>\n",
       "      <th>50%</th>\n",
       "      <th>75%</th>\n",
       "      <th>max</th>\n",
       "    </tr>\n",
       "  </thead>\n",
       "  <tbody>\n",
       "    <tr>\n",
       "      <th>satisfaction_v2</th>\n",
       "      <td>129452.0</td>\n",
       "      <td>0.434532</td>\n",
       "      <td>0.495697</td>\n",
       "      <td>0.000000</td>\n",
       "      <td>0.000000</td>\n",
       "      <td>0.000000</td>\n",
       "      <td>1.000000</td>\n",
       "      <td>1.000000</td>\n",
       "    </tr>\n",
       "    <tr>\n",
       "      <th>Age</th>\n",
       "      <td>129452.0</td>\n",
       "      <td>39.430036</td>\n",
       "      <td>15.117662</td>\n",
       "      <td>7.000000</td>\n",
       "      <td>27.000000</td>\n",
       "      <td>40.000000</td>\n",
       "      <td>51.000000</td>\n",
       "      <td>85.000000</td>\n",
       "    </tr>\n",
       "    <tr>\n",
       "      <th>Class</th>\n",
       "      <td>129452.0</td>\n",
       "      <td>0.593695</td>\n",
       "      <td>0.621379</td>\n",
       "      <td>0.000000</td>\n",
       "      <td>0.000000</td>\n",
       "      <td>1.000000</td>\n",
       "      <td>1.000000</td>\n",
       "      <td>2.000000</td>\n",
       "    </tr>\n",
       "    <tr>\n",
       "      <th>Flight Distance</th>\n",
       "      <td>129452.0</td>\n",
       "      <td>6.706453</td>\n",
       "      <td>0.915257</td>\n",
       "      <td>4.043051</td>\n",
       "      <td>6.028279</td>\n",
       "      <td>6.739337</td>\n",
       "      <td>7.464510</td>\n",
       "      <td>8.513988</td>\n",
       "    </tr>\n",
       "    <tr>\n",
       "      <th>Inflight wifi service</th>\n",
       "      <td>129452.0</td>\n",
       "      <td>2.728602</td>\n",
       "      <td>1.329245</td>\n",
       "      <td>0.000000</td>\n",
       "      <td>2.000000</td>\n",
       "      <td>3.000000</td>\n",
       "      <td>4.000000</td>\n",
       "      <td>5.000000</td>\n",
       "    </tr>\n",
       "    <tr>\n",
       "      <th>Departure/Arrival time convenient</th>\n",
       "      <td>129452.0</td>\n",
       "      <td>3.057303</td>\n",
       "      <td>1.526758</td>\n",
       "      <td>0.000000</td>\n",
       "      <td>2.000000</td>\n",
       "      <td>3.000000</td>\n",
       "      <td>4.000000</td>\n",
       "      <td>5.000000</td>\n",
       "    </tr>\n",
       "    <tr>\n",
       "      <th>Ease of Online booking</th>\n",
       "      <td>129452.0</td>\n",
       "      <td>2.756875</td>\n",
       "      <td>1.401652</td>\n",
       "      <td>0.000000</td>\n",
       "      <td>2.000000</td>\n",
       "      <td>3.000000</td>\n",
       "      <td>4.000000</td>\n",
       "      <td>5.000000</td>\n",
       "    </tr>\n",
       "    <tr>\n",
       "      <th>Gate location</th>\n",
       "      <td>129452.0</td>\n",
       "      <td>2.976964</td>\n",
       "      <td>1.278481</td>\n",
       "      <td>0.000000</td>\n",
       "      <td>2.000000</td>\n",
       "      <td>3.000000</td>\n",
       "      <td>4.000000</td>\n",
       "      <td>5.000000</td>\n",
       "    </tr>\n",
       "    <tr>\n",
       "      <th>Food and drink</th>\n",
       "      <td>129452.0</td>\n",
       "      <td>3.204833</td>\n",
       "      <td>1.329845</td>\n",
       "      <td>0.000000</td>\n",
       "      <td>2.000000</td>\n",
       "      <td>3.000000</td>\n",
       "      <td>4.000000</td>\n",
       "      <td>5.000000</td>\n",
       "    </tr>\n",
       "    <tr>\n",
       "      <th>Online boarding</th>\n",
       "      <td>129452.0</td>\n",
       "      <td>3.252773</td>\n",
       "      <td>1.350596</td>\n",
       "      <td>0.000000</td>\n",
       "      <td>2.000000</td>\n",
       "      <td>3.000000</td>\n",
       "      <td>4.000000</td>\n",
       "      <td>5.000000</td>\n",
       "    </tr>\n",
       "    <tr>\n",
       "      <th>Seat comfort</th>\n",
       "      <td>129452.0</td>\n",
       "      <td>3.441724</td>\n",
       "      <td>1.319098</td>\n",
       "      <td>0.000000</td>\n",
       "      <td>2.000000</td>\n",
       "      <td>4.000000</td>\n",
       "      <td>5.000000</td>\n",
       "      <td>5.000000</td>\n",
       "    </tr>\n",
       "    <tr>\n",
       "      <th>Inflight entertainment</th>\n",
       "      <td>129452.0</td>\n",
       "      <td>3.358102</td>\n",
       "      <td>1.334148</td>\n",
       "      <td>0.000000</td>\n",
       "      <td>2.000000</td>\n",
       "      <td>4.000000</td>\n",
       "      <td>4.000000</td>\n",
       "      <td>5.000000</td>\n",
       "    </tr>\n",
       "    <tr>\n",
       "      <th>On-board service</th>\n",
       "      <td>129452.0</td>\n",
       "      <td>3.383223</td>\n",
       "      <td>1.287033</td>\n",
       "      <td>0.000000</td>\n",
       "      <td>2.000000</td>\n",
       "      <td>4.000000</td>\n",
       "      <td>4.000000</td>\n",
       "      <td>5.000000</td>\n",
       "    </tr>\n",
       "    <tr>\n",
       "      <th>Leg room service</th>\n",
       "      <td>129452.0</td>\n",
       "      <td>3.351034</td>\n",
       "      <td>1.316158</td>\n",
       "      <td>0.000000</td>\n",
       "      <td>2.000000</td>\n",
       "      <td>4.000000</td>\n",
       "      <td>4.000000</td>\n",
       "      <td>5.000000</td>\n",
       "    </tr>\n",
       "    <tr>\n",
       "      <th>Baggage handling</th>\n",
       "      <td>129452.0</td>\n",
       "      <td>3.631825</td>\n",
       "      <td>1.180091</td>\n",
       "      <td>1.000000</td>\n",
       "      <td>3.000000</td>\n",
       "      <td>4.000000</td>\n",
       "      <td>5.000000</td>\n",
       "      <td>5.000000</td>\n",
       "    </tr>\n",
       "    <tr>\n",
       "      <th>Checkin service</th>\n",
       "      <td>129452.0</td>\n",
       "      <td>3.306229</td>\n",
       "      <td>1.266098</td>\n",
       "      <td>0.000000</td>\n",
       "      <td>3.000000</td>\n",
       "      <td>3.000000</td>\n",
       "      <td>4.000000</td>\n",
       "      <td>5.000000</td>\n",
       "    </tr>\n",
       "    <tr>\n",
       "      <th>Inflight service</th>\n",
       "      <td>129452.0</td>\n",
       "      <td>3.642532</td>\n",
       "      <td>1.176537</td>\n",
       "      <td>0.000000</td>\n",
       "      <td>3.000000</td>\n",
       "      <td>4.000000</td>\n",
       "      <td>5.000000</td>\n",
       "      <td>5.000000</td>\n",
       "    </tr>\n",
       "    <tr>\n",
       "      <th>Cleanliness</th>\n",
       "      <td>129452.0</td>\n",
       "      <td>3.286315</td>\n",
       "      <td>1.313578</td>\n",
       "      <td>0.000000</td>\n",
       "      <td>2.000000</td>\n",
       "      <td>3.000000</td>\n",
       "      <td>4.000000</td>\n",
       "      <td>5.000000</td>\n",
       "    </tr>\n",
       "    <tr>\n",
       "      <th>Departure Delay in Minutes</th>\n",
       "      <td>129452.0</td>\n",
       "      <td>1.230104</td>\n",
       "      <td>1.614236</td>\n",
       "      <td>0.000000</td>\n",
       "      <td>0.000000</td>\n",
       "      <td>0.000000</td>\n",
       "      <td>2.564949</td>\n",
       "      <td>6.398595</td>\n",
       "    </tr>\n",
       "    <tr>\n",
       "      <th>Arrival Delay in Minutes</th>\n",
       "      <td>129452.0</td>\n",
       "      <td>1.262408</td>\n",
       "      <td>1.628328</td>\n",
       "      <td>0.000000</td>\n",
       "      <td>0.000000</td>\n",
       "      <td>0.000000</td>\n",
       "      <td>2.639057</td>\n",
       "      <td>6.437752</td>\n",
       "    </tr>\n",
       "  </tbody>\n",
       "</table>\n",
       "</div>"
      ]
     },
     "execution_count": 8,
     "metadata": {},
     "output_type": "execute_result"
    }
   ],
   "execution_count": 8
  },
  {
   "metadata": {},
   "cell_type": "markdown",
   "source": "## Checking for null values",
   "id": "2bbc1980ac062c57"
  },
  {
   "metadata": {
    "ExecuteTime": {
     "end_time": "2025-03-17T12:46:45.001964Z",
     "start_time": "2025-03-17T12:46:44.998029Z"
    }
   },
   "cell_type": "code",
   "source": "assert pd.notnull(df).all().all()",
   "id": "3060a530939e3409",
   "outputs": [],
   "execution_count": 9
  },
  {
   "metadata": {},
   "cell_type": "markdown",
   "source": "## Creating Feature and Target Variables",
   "id": "65881d8ddf63fa89"
  },
  {
   "metadata": {
    "ExecuteTime": {
     "end_time": "2025-03-17T12:46:49.098689Z",
     "start_time": "2025-03-17T12:46:49.092163Z"
    }
   },
   "cell_type": "code",
   "source": [
    "Features=Input_data = df.drop(columns='satisfaction_v2', axis=1)\n",
    "Prediction=df['satisfaction_v2']"
   ],
   "id": "bfbde2eeb36f469a",
   "outputs": [],
   "execution_count": 10
  },
  {
   "metadata": {
    "ExecuteTime": {
     "end_time": "2025-03-17T12:47:06.104591Z",
     "start_time": "2025-03-17T12:47:06.102138Z"
    }
   },
   "cell_type": "code",
   "source": [
    "X = Features\n",
    "y = Prediction"
   ],
   "id": "cad08f2a59e6f44",
   "outputs": [],
   "execution_count": 11
  },
  {
   "metadata": {},
   "cell_type": "markdown",
   "source": "## Making Train/Test Splits",
   "id": "e62ccf9c731f8276"
  },
  {
   "metadata": {
    "ExecuteTime": {
     "end_time": "2025-03-17T12:47:17.197907Z",
     "start_time": "2025-03-17T12:47:17.181026Z"
    }
   },
   "cell_type": "code",
   "source": "X_train, X_test, y_train, y_test = train_test_split(X, y, test_size = 0.3, random_state = 0)",
   "id": "2e76b121fd7fa246",
   "outputs": [],
   "execution_count": 12
  },
  {
   "metadata": {
    "ExecuteTime": {
     "end_time": "2025-03-17T12:47:17.997425Z",
     "start_time": "2025-03-17T12:47:17.994370Z"
    }
   },
   "cell_type": "code",
   "source": "X_train.shape, X_test.shape",
   "id": "23b2aa121cd046c6",
   "outputs": [
    {
     "data": {
      "text/plain": [
       "((90616, 22), (38836, 22))"
      ]
     },
     "execution_count": 13,
     "metadata": {},
     "output_type": "execute_result"
    }
   ],
   "execution_count": 13
  },
  {
   "metadata": {
    "ExecuteTime": {
     "end_time": "2025-03-17T12:47:19.128492Z",
     "start_time": "2025-03-17T12:47:19.125626Z"
    }
   },
   "cell_type": "code",
   "source": "cols = X_train.columns",
   "id": "eeb9684090accee1",
   "outputs": [],
   "execution_count": 14
  },
  {
   "metadata": {},
   "cell_type": "markdown",
   "source": "## Fit and Transform the Data",
   "id": "e32103b1336ad39b"
  },
  {
   "metadata": {
    "ExecuteTime": {
     "end_time": "2025-03-17T12:47:54.566177Z",
     "start_time": "2025-03-17T12:47:54.527172Z"
    }
   },
   "cell_type": "code",
   "source": [
    "scaler = RobustScaler()\n",
    "X_train = scaler.fit_transform(X_train)\n",
    "X_test = scaler.transform(X_test)"
   ],
   "id": "b0fdde79ba063f73",
   "outputs": [],
   "execution_count": 17
  },
  {
   "metadata": {},
   "cell_type": "markdown",
   "source": "## Convert Scaled Arrays Back to DataFrames",
   "id": "c000ffd6128d5d84"
  },
  {
   "metadata": {
    "ExecuteTime": {
     "end_time": "2025-03-17T12:47:55.146895Z",
     "start_time": "2025-03-17T12:47:55.144487Z"
    }
   },
   "cell_type": "code",
   "source": "X_train = pd.DataFrame(X_train, columns=[cols])",
   "id": "2430b46976b4fe93",
   "outputs": [],
   "execution_count": 18
  },
  {
   "metadata": {
    "ExecuteTime": {
     "end_time": "2025-03-17T12:47:56.503454Z",
     "start_time": "2025-03-17T12:47:56.500955Z"
    }
   },
   "cell_type": "code",
   "source": "X_test = pd.DataFrame(X_test, columns=[cols])",
   "id": "8ffe4f4782fae2a4",
   "outputs": [],
   "execution_count": 19
  },
  {
   "metadata": {},
   "cell_type": "markdown",
   "source": "## Run the model",
   "id": "adbdfe02133589c5"
  },
  {
   "metadata": {
    "ExecuteTime": {
     "end_time": "2025-03-17T12:49:01.426219Z",
     "start_time": "2025-03-17T12:48:56.235028Z"
    }
   },
   "cell_type": "code",
   "source": [
    "# instantiate the classifier \n",
    "rfc = RandomForestClassifier(random_state=0)\n",
    "\n",
    "# fit the model\n",
    "rfc.fit(X_train, y_train)\n",
    "\n",
    "# Predict the Test set results\n",
    "y_pred = rfc.predict(X_test)\n",
    "\n",
    "# Check accuracy score \n",
    "from sklearn.metrics import accuracy_score\n",
    "print('Model accuracy score with 10 decision-trees : {0:0.4f}'. format(accuracy_score(y_test, y_pred)))"
   ],
   "id": "89922b184f283e66",
   "outputs": [
    {
     "name": "stdout",
     "output_type": "stream",
     "text": [
      "Model accuracy score with 10 decision-trees : 0.9612\n"
     ]
    }
   ],
   "execution_count": 22
  },
  {
   "metadata": {
    "ExecuteTime": {
     "end_time": "2025-03-17T12:51:22.684968Z",
     "start_time": "2025-03-17T12:51:22.654380Z"
    }
   },
   "cell_type": "code",
   "source": "print(classification_report(y_test, y_pred))\n",
   "id": "fff65dd08d61a1e0",
   "outputs": [
    {
     "name": "stdout",
     "output_type": "stream",
     "text": [
      "              precision    recall  f1-score   support\n",
      "\n",
      "           0       0.95      0.98      0.97     21768\n",
      "           1       0.97      0.94      0.96     17068\n",
      "\n",
      "    accuracy                           0.96     38836\n",
      "   macro avg       0.96      0.96      0.96     38836\n",
      "weighted avg       0.96      0.96      0.96     38836\n",
      "\n"
     ]
    }
   ],
   "execution_count": 24
  },
  {
   "metadata": {},
   "cell_type": "markdown",
   "source": "## The Results already quite good, lets see if I can improve it even further",
   "id": "9c4d60022b9b5f09"
  },
  {
   "metadata": {},
   "cell_type": "markdown",
   "source": "## Lets do a Feature Importance",
   "id": "9047034a3587db6e"
  },
  {
   "metadata": {
    "ExecuteTime": {
     "end_time": "2025-03-17T12:52:49.886918Z",
     "start_time": "2025-03-17T12:52:45.132481Z"
    }
   },
   "cell_type": "code",
   "source": [
    "clf = RandomForestClassifier(n_estimators=100, random_state=0)\n",
    "\n",
    "# fit the model to the training set\n",
    "clf.fit(X_train, y_train)"
   ],
   "id": "3c8dbdbf8f92f466",
   "outputs": [
    {
     "data": {
      "text/plain": [
       "RandomForestClassifier(random_state=0)"
      ],
      "text/html": [
       "<style>#sk-container-id-5 {\n",
       "  /* Definition of color scheme common for light and dark mode */\n",
       "  --sklearn-color-text: black;\n",
       "  --sklearn-color-line: gray;\n",
       "  /* Definition of color scheme for unfitted estimators */\n",
       "  --sklearn-color-unfitted-level-0: #fff5e6;\n",
       "  --sklearn-color-unfitted-level-1: #f6e4d2;\n",
       "  --sklearn-color-unfitted-level-2: #ffe0b3;\n",
       "  --sklearn-color-unfitted-level-3: chocolate;\n",
       "  /* Definition of color scheme for fitted estimators */\n",
       "  --sklearn-color-fitted-level-0: #f0f8ff;\n",
       "  --sklearn-color-fitted-level-1: #d4ebff;\n",
       "  --sklearn-color-fitted-level-2: #b3dbfd;\n",
       "  --sklearn-color-fitted-level-3: cornflowerblue;\n",
       "\n",
       "  /* Specific color for light theme */\n",
       "  --sklearn-color-text-on-default-background: var(--sg-text-color, var(--theme-code-foreground, var(--jp-content-font-color1, black)));\n",
       "  --sklearn-color-background: var(--sg-background-color, var(--theme-background, var(--jp-layout-color0, white)));\n",
       "  --sklearn-color-border-box: var(--sg-text-color, var(--theme-code-foreground, var(--jp-content-font-color1, black)));\n",
       "  --sklearn-color-icon: #696969;\n",
       "\n",
       "  @media (prefers-color-scheme: dark) {\n",
       "    /* Redefinition of color scheme for dark theme */\n",
       "    --sklearn-color-text-on-default-background: var(--sg-text-color, var(--theme-code-foreground, var(--jp-content-font-color1, white)));\n",
       "    --sklearn-color-background: var(--sg-background-color, var(--theme-background, var(--jp-layout-color0, #111)));\n",
       "    --sklearn-color-border-box: var(--sg-text-color, var(--theme-code-foreground, var(--jp-content-font-color1, white)));\n",
       "    --sklearn-color-icon: #878787;\n",
       "  }\n",
       "}\n",
       "\n",
       "#sk-container-id-5 {\n",
       "  color: var(--sklearn-color-text);\n",
       "}\n",
       "\n",
       "#sk-container-id-5 pre {\n",
       "  padding: 0;\n",
       "}\n",
       "\n",
       "#sk-container-id-5 input.sk-hidden--visually {\n",
       "  border: 0;\n",
       "  clip: rect(1px 1px 1px 1px);\n",
       "  clip: rect(1px, 1px, 1px, 1px);\n",
       "  height: 1px;\n",
       "  margin: -1px;\n",
       "  overflow: hidden;\n",
       "  padding: 0;\n",
       "  position: absolute;\n",
       "  width: 1px;\n",
       "}\n",
       "\n",
       "#sk-container-id-5 div.sk-dashed-wrapped {\n",
       "  border: 1px dashed var(--sklearn-color-line);\n",
       "  margin: 0 0.4em 0.5em 0.4em;\n",
       "  box-sizing: border-box;\n",
       "  padding-bottom: 0.4em;\n",
       "  background-color: var(--sklearn-color-background);\n",
       "}\n",
       "\n",
       "#sk-container-id-5 div.sk-container {\n",
       "  /* jupyter's `normalize.less` sets `[hidden] { display: none; }`\n",
       "     but bootstrap.min.css set `[hidden] { display: none !important; }`\n",
       "     so we also need the `!important` here to be able to override the\n",
       "     default hidden behavior on the sphinx rendered scikit-learn.org.\n",
       "     See: https://github.com/scikit-learn/scikit-learn/issues/21755 */\n",
       "  display: inline-block !important;\n",
       "  position: relative;\n",
       "}\n",
       "\n",
       "#sk-container-id-5 div.sk-text-repr-fallback {\n",
       "  display: none;\n",
       "}\n",
       "\n",
       "div.sk-parallel-item,\n",
       "div.sk-serial,\n",
       "div.sk-item {\n",
       "  /* draw centered vertical line to link estimators */\n",
       "  background-image: linear-gradient(var(--sklearn-color-text-on-default-background), var(--sklearn-color-text-on-default-background));\n",
       "  background-size: 2px 100%;\n",
       "  background-repeat: no-repeat;\n",
       "  background-position: center center;\n",
       "}\n",
       "\n",
       "/* Parallel-specific style estimator block */\n",
       "\n",
       "#sk-container-id-5 div.sk-parallel-item::after {\n",
       "  content: \"\";\n",
       "  width: 100%;\n",
       "  border-bottom: 2px solid var(--sklearn-color-text-on-default-background);\n",
       "  flex-grow: 1;\n",
       "}\n",
       "\n",
       "#sk-container-id-5 div.sk-parallel {\n",
       "  display: flex;\n",
       "  align-items: stretch;\n",
       "  justify-content: center;\n",
       "  background-color: var(--sklearn-color-background);\n",
       "  position: relative;\n",
       "}\n",
       "\n",
       "#sk-container-id-5 div.sk-parallel-item {\n",
       "  display: flex;\n",
       "  flex-direction: column;\n",
       "}\n",
       "\n",
       "#sk-container-id-5 div.sk-parallel-item:first-child::after {\n",
       "  align-self: flex-end;\n",
       "  width: 50%;\n",
       "}\n",
       "\n",
       "#sk-container-id-5 div.sk-parallel-item:last-child::after {\n",
       "  align-self: flex-start;\n",
       "  width: 50%;\n",
       "}\n",
       "\n",
       "#sk-container-id-5 div.sk-parallel-item:only-child::after {\n",
       "  width: 0;\n",
       "}\n",
       "\n",
       "/* Serial-specific style estimator block */\n",
       "\n",
       "#sk-container-id-5 div.sk-serial {\n",
       "  display: flex;\n",
       "  flex-direction: column;\n",
       "  align-items: center;\n",
       "  background-color: var(--sklearn-color-background);\n",
       "  padding-right: 1em;\n",
       "  padding-left: 1em;\n",
       "}\n",
       "\n",
       "\n",
       "/* Toggleable style: style used for estimator/Pipeline/ColumnTransformer box that is\n",
       "clickable and can be expanded/collapsed.\n",
       "- Pipeline and ColumnTransformer use this feature and define the default style\n",
       "- Estimators will overwrite some part of the style using the `sk-estimator` class\n",
       "*/\n",
       "\n",
       "/* Pipeline and ColumnTransformer style (default) */\n",
       "\n",
       "#sk-container-id-5 div.sk-toggleable {\n",
       "  /* Default theme specific background. It is overwritten whether we have a\n",
       "  specific estimator or a Pipeline/ColumnTransformer */\n",
       "  background-color: var(--sklearn-color-background);\n",
       "}\n",
       "\n",
       "/* Toggleable label */\n",
       "#sk-container-id-5 label.sk-toggleable__label {\n",
       "  cursor: pointer;\n",
       "  display: block;\n",
       "  width: 100%;\n",
       "  margin-bottom: 0;\n",
       "  padding: 0.5em;\n",
       "  box-sizing: border-box;\n",
       "  text-align: center;\n",
       "}\n",
       "\n",
       "#sk-container-id-5 label.sk-toggleable__label-arrow:before {\n",
       "  /* Arrow on the left of the label */\n",
       "  content: \"▸\";\n",
       "  float: left;\n",
       "  margin-right: 0.25em;\n",
       "  color: var(--sklearn-color-icon);\n",
       "}\n",
       "\n",
       "#sk-container-id-5 label.sk-toggleable__label-arrow:hover:before {\n",
       "  color: var(--sklearn-color-text);\n",
       "}\n",
       "\n",
       "/* Toggleable content - dropdown */\n",
       "\n",
       "#sk-container-id-5 div.sk-toggleable__content {\n",
       "  max-height: 0;\n",
       "  max-width: 0;\n",
       "  overflow: hidden;\n",
       "  text-align: left;\n",
       "  /* unfitted */\n",
       "  background-color: var(--sklearn-color-unfitted-level-0);\n",
       "}\n",
       "\n",
       "#sk-container-id-5 div.sk-toggleable__content.fitted {\n",
       "  /* fitted */\n",
       "  background-color: var(--sklearn-color-fitted-level-0);\n",
       "}\n",
       "\n",
       "#sk-container-id-5 div.sk-toggleable__content pre {\n",
       "  margin: 0.2em;\n",
       "  border-radius: 0.25em;\n",
       "  color: var(--sklearn-color-text);\n",
       "  /* unfitted */\n",
       "  background-color: var(--sklearn-color-unfitted-level-0);\n",
       "}\n",
       "\n",
       "#sk-container-id-5 div.sk-toggleable__content.fitted pre {\n",
       "  /* unfitted */\n",
       "  background-color: var(--sklearn-color-fitted-level-0);\n",
       "}\n",
       "\n",
       "#sk-container-id-5 input.sk-toggleable__control:checked~div.sk-toggleable__content {\n",
       "  /* Expand drop-down */\n",
       "  max-height: 200px;\n",
       "  max-width: 100%;\n",
       "  overflow: auto;\n",
       "}\n",
       "\n",
       "#sk-container-id-5 input.sk-toggleable__control:checked~label.sk-toggleable__label-arrow:before {\n",
       "  content: \"▾\";\n",
       "}\n",
       "\n",
       "/* Pipeline/ColumnTransformer-specific style */\n",
       "\n",
       "#sk-container-id-5 div.sk-label input.sk-toggleable__control:checked~label.sk-toggleable__label {\n",
       "  color: var(--sklearn-color-text);\n",
       "  background-color: var(--sklearn-color-unfitted-level-2);\n",
       "}\n",
       "\n",
       "#sk-container-id-5 div.sk-label.fitted input.sk-toggleable__control:checked~label.sk-toggleable__label {\n",
       "  background-color: var(--sklearn-color-fitted-level-2);\n",
       "}\n",
       "\n",
       "/* Estimator-specific style */\n",
       "\n",
       "/* Colorize estimator box */\n",
       "#sk-container-id-5 div.sk-estimator input.sk-toggleable__control:checked~label.sk-toggleable__label {\n",
       "  /* unfitted */\n",
       "  background-color: var(--sklearn-color-unfitted-level-2);\n",
       "}\n",
       "\n",
       "#sk-container-id-5 div.sk-estimator.fitted input.sk-toggleable__control:checked~label.sk-toggleable__label {\n",
       "  /* fitted */\n",
       "  background-color: var(--sklearn-color-fitted-level-2);\n",
       "}\n",
       "\n",
       "#sk-container-id-5 div.sk-label label.sk-toggleable__label,\n",
       "#sk-container-id-5 div.sk-label label {\n",
       "  /* The background is the default theme color */\n",
       "  color: var(--sklearn-color-text-on-default-background);\n",
       "}\n",
       "\n",
       "/* On hover, darken the color of the background */\n",
       "#sk-container-id-5 div.sk-label:hover label.sk-toggleable__label {\n",
       "  color: var(--sklearn-color-text);\n",
       "  background-color: var(--sklearn-color-unfitted-level-2);\n",
       "}\n",
       "\n",
       "/* Label box, darken color on hover, fitted */\n",
       "#sk-container-id-5 div.sk-label.fitted:hover label.sk-toggleable__label.fitted {\n",
       "  color: var(--sklearn-color-text);\n",
       "  background-color: var(--sklearn-color-fitted-level-2);\n",
       "}\n",
       "\n",
       "/* Estimator label */\n",
       "\n",
       "#sk-container-id-5 div.sk-label label {\n",
       "  font-family: monospace;\n",
       "  font-weight: bold;\n",
       "  display: inline-block;\n",
       "  line-height: 1.2em;\n",
       "}\n",
       "\n",
       "#sk-container-id-5 div.sk-label-container {\n",
       "  text-align: center;\n",
       "}\n",
       "\n",
       "/* Estimator-specific */\n",
       "#sk-container-id-5 div.sk-estimator {\n",
       "  font-family: monospace;\n",
       "  border: 1px dotted var(--sklearn-color-border-box);\n",
       "  border-radius: 0.25em;\n",
       "  box-sizing: border-box;\n",
       "  margin-bottom: 0.5em;\n",
       "  /* unfitted */\n",
       "  background-color: var(--sklearn-color-unfitted-level-0);\n",
       "}\n",
       "\n",
       "#sk-container-id-5 div.sk-estimator.fitted {\n",
       "  /* fitted */\n",
       "  background-color: var(--sklearn-color-fitted-level-0);\n",
       "}\n",
       "\n",
       "/* on hover */\n",
       "#sk-container-id-5 div.sk-estimator:hover {\n",
       "  /* unfitted */\n",
       "  background-color: var(--sklearn-color-unfitted-level-2);\n",
       "}\n",
       "\n",
       "#sk-container-id-5 div.sk-estimator.fitted:hover {\n",
       "  /* fitted */\n",
       "  background-color: var(--sklearn-color-fitted-level-2);\n",
       "}\n",
       "\n",
       "/* Specification for estimator info (e.g. \"i\" and \"?\") */\n",
       "\n",
       "/* Common style for \"i\" and \"?\" */\n",
       "\n",
       ".sk-estimator-doc-link,\n",
       "a:link.sk-estimator-doc-link,\n",
       "a:visited.sk-estimator-doc-link {\n",
       "  float: right;\n",
       "  font-size: smaller;\n",
       "  line-height: 1em;\n",
       "  font-family: monospace;\n",
       "  background-color: var(--sklearn-color-background);\n",
       "  border-radius: 1em;\n",
       "  height: 1em;\n",
       "  width: 1em;\n",
       "  text-decoration: none !important;\n",
       "  margin-left: 1ex;\n",
       "  /* unfitted */\n",
       "  border: var(--sklearn-color-unfitted-level-1) 1pt solid;\n",
       "  color: var(--sklearn-color-unfitted-level-1);\n",
       "}\n",
       "\n",
       ".sk-estimator-doc-link.fitted,\n",
       "a:link.sk-estimator-doc-link.fitted,\n",
       "a:visited.sk-estimator-doc-link.fitted {\n",
       "  /* fitted */\n",
       "  border: var(--sklearn-color-fitted-level-1) 1pt solid;\n",
       "  color: var(--sklearn-color-fitted-level-1);\n",
       "}\n",
       "\n",
       "/* On hover */\n",
       "div.sk-estimator:hover .sk-estimator-doc-link:hover,\n",
       ".sk-estimator-doc-link:hover,\n",
       "div.sk-label-container:hover .sk-estimator-doc-link:hover,\n",
       ".sk-estimator-doc-link:hover {\n",
       "  /* unfitted */\n",
       "  background-color: var(--sklearn-color-unfitted-level-3);\n",
       "  color: var(--sklearn-color-background);\n",
       "  text-decoration: none;\n",
       "}\n",
       "\n",
       "div.sk-estimator.fitted:hover .sk-estimator-doc-link.fitted:hover,\n",
       ".sk-estimator-doc-link.fitted:hover,\n",
       "div.sk-label-container:hover .sk-estimator-doc-link.fitted:hover,\n",
       ".sk-estimator-doc-link.fitted:hover {\n",
       "  /* fitted */\n",
       "  background-color: var(--sklearn-color-fitted-level-3);\n",
       "  color: var(--sklearn-color-background);\n",
       "  text-decoration: none;\n",
       "}\n",
       "\n",
       "/* Span, style for the box shown on hovering the info icon */\n",
       ".sk-estimator-doc-link span {\n",
       "  display: none;\n",
       "  z-index: 9999;\n",
       "  position: relative;\n",
       "  font-weight: normal;\n",
       "  right: .2ex;\n",
       "  padding: .5ex;\n",
       "  margin: .5ex;\n",
       "  width: min-content;\n",
       "  min-width: 20ex;\n",
       "  max-width: 50ex;\n",
       "  color: var(--sklearn-color-text);\n",
       "  box-shadow: 2pt 2pt 4pt #999;\n",
       "  /* unfitted */\n",
       "  background: var(--sklearn-color-unfitted-level-0);\n",
       "  border: .5pt solid var(--sklearn-color-unfitted-level-3);\n",
       "}\n",
       "\n",
       ".sk-estimator-doc-link.fitted span {\n",
       "  /* fitted */\n",
       "  background: var(--sklearn-color-fitted-level-0);\n",
       "  border: var(--sklearn-color-fitted-level-3);\n",
       "}\n",
       "\n",
       ".sk-estimator-doc-link:hover span {\n",
       "  display: block;\n",
       "}\n",
       "\n",
       "/* \"?\"-specific style due to the `<a>` HTML tag */\n",
       "\n",
       "#sk-container-id-5 a.estimator_doc_link {\n",
       "  float: right;\n",
       "  font-size: 1rem;\n",
       "  line-height: 1em;\n",
       "  font-family: monospace;\n",
       "  background-color: var(--sklearn-color-background);\n",
       "  border-radius: 1rem;\n",
       "  height: 1rem;\n",
       "  width: 1rem;\n",
       "  text-decoration: none;\n",
       "  /* unfitted */\n",
       "  color: var(--sklearn-color-unfitted-level-1);\n",
       "  border: var(--sklearn-color-unfitted-level-1) 1pt solid;\n",
       "}\n",
       "\n",
       "#sk-container-id-5 a.estimator_doc_link.fitted {\n",
       "  /* fitted */\n",
       "  border: var(--sklearn-color-fitted-level-1) 1pt solid;\n",
       "  color: var(--sklearn-color-fitted-level-1);\n",
       "}\n",
       "\n",
       "/* On hover */\n",
       "#sk-container-id-5 a.estimator_doc_link:hover {\n",
       "  /* unfitted */\n",
       "  background-color: var(--sklearn-color-unfitted-level-3);\n",
       "  color: var(--sklearn-color-background);\n",
       "  text-decoration: none;\n",
       "}\n",
       "\n",
       "#sk-container-id-5 a.estimator_doc_link.fitted:hover {\n",
       "  /* fitted */\n",
       "  background-color: var(--sklearn-color-fitted-level-3);\n",
       "}\n",
       "</style><div id=\"sk-container-id-5\" class=\"sk-top-container\"><div class=\"sk-text-repr-fallback\"><pre>RandomForestClassifier(random_state=0)</pre><b>In a Jupyter environment, please rerun this cell to show the HTML representation or trust the notebook. <br />On GitHub, the HTML representation is unable to render, please try loading this page with nbviewer.org.</b></div><div class=\"sk-container\" hidden><div class=\"sk-item\"><div class=\"sk-estimator fitted sk-toggleable\"><input class=\"sk-toggleable__control sk-hidden--visually\" id=\"sk-estimator-id-5\" type=\"checkbox\" checked><label for=\"sk-estimator-id-5\" class=\"sk-toggleable__label fitted sk-toggleable__label-arrow fitted\">&nbsp;&nbsp;RandomForestClassifier<a class=\"sk-estimator-doc-link fitted\" rel=\"noreferrer\" target=\"_blank\" href=\"https://scikit-learn.org/1.4/modules/generated/sklearn.ensemble.RandomForestClassifier.html\">?<span>Documentation for RandomForestClassifier</span></a><span class=\"sk-estimator-doc-link fitted\">i<span>Fitted</span></span></label><div class=\"sk-toggleable__content fitted\"><pre>RandomForestClassifier(random_state=0)</pre></div> </div></div></div></div>"
      ]
     },
     "execution_count": 33,
     "metadata": {},
     "output_type": "execute_result"
    }
   ],
   "execution_count": 33
  },
  {
   "metadata": {
    "ExecuteTime": {
     "end_time": "2025-03-17T12:52:24.535192Z",
     "start_time": "2025-03-17T12:52:24.529678Z"
    }
   },
   "cell_type": "code",
   "source": [
    "feature_scores = pd.Series(clf.feature_importances_, index=X_train.columns).sort_values(ascending=False)\n",
    "\n",
    "feature_scores"
   ],
   "id": "28531521d732e884",
   "outputs": [
    {
     "data": {
      "text/plain": [
       "Online boarding                      0.166076\n",
       "Inflight wifi service                0.129941\n",
       "Type of Travel_Personal Travel       0.123486\n",
       "Class                                0.068306\n",
       "Inflight entertainment               0.061749\n",
       "Leg room service                     0.060795\n",
       "Customer Type_disloyal Customer      0.047349\n",
       "Ease of Online booking               0.039256\n",
       "Seat comfort                         0.035027\n",
       "Age                                  0.034840\n",
       "Inflight service                     0.032100\n",
       "Flight Distance                      0.028402\n",
       "Cleanliness                          0.027363\n",
       "On-board service                     0.025109\n",
       "Checkin service                      0.022826\n",
       "Baggage handling                     0.020999\n",
       "Departure/Arrival time convenient    0.018864\n",
       "Gate location                        0.015001\n",
       "Food and drink                       0.014144\n",
       "Arrival Delay in Minutes             0.011766\n",
       "Departure Delay in Minutes           0.011547\n",
       "Gender_Male                          0.005055\n",
       "dtype: float64"
      ]
     },
     "execution_count": 32,
     "metadata": {},
     "output_type": "execute_result"
    }
   ],
   "execution_count": 32
  },
  {
   "metadata": {},
   "cell_type": "markdown",
   "source": "## Lets select top 5 features from the list and see how model reacts ",
   "id": "dea7b6d44ab280f"
  },
  {
   "metadata": {
    "ExecuteTime": {
     "end_time": "2025-03-17T13:05:59.712104Z",
     "start_time": "2025-03-17T13:05:58.371433Z"
    }
   },
   "cell_type": "code",
   "source": [
    "# Get feature importance and sort them\n",
    "feature_scores = pd.Series(\n",
    "    clf.feature_importances_, \n",
    "    index=X_train.columns\n",
    ").sort_values(ascending=False)\n",
    "\n",
    "# Identify the top 5 features\n",
    "top_5_features = feature_scores.head(5).index\n",
    "print(\"Top 5 features:\\n\", top_5_features)\n",
    "\n",
    "# Subset the training and test data to only use the top 5 features\n",
    "X_train_top5 = X_train[top_5_features]\n",
    "X_test_top5 = X_test[top_5_features]\n",
    "\n",
    "# Train a new model (example: RandomForestClassifier)\n",
    "clf_top5 = RandomForestClassifier(random_state=0)\n",
    "clf_top5.fit(X_train_top5, y_train)\n",
    "\n",
    "# Evaluate on the test set\n",
    "y_pred_top5 = clf_top5.predict(X_test_top5)\n",
    "accuracy_top5 = accuracy_score(y_test, y_pred_top5)\n",
    "print(\"Accuracy using top 5 features:\", accuracy_top5)\n"
   ],
   "id": "c250e1bcb64e6a72",
   "outputs": [
    {
     "name": "stdout",
     "output_type": "stream",
     "text": [
      "Top 5 features:\n",
      " MultiIndex([(               'Online boarding',),\n",
      "            (         'Inflight wifi service',),\n",
      "            ('Type of Travel_Personal Travel',),\n",
      "            (                         'Class',),\n",
      "            (        'Inflight entertainment',)],\n",
      "           )\n",
      "Accuracy using top 5 features: 0.9239365537130497\n"
     ]
    }
   ],
   "execution_count": 49
  },
  {
   "metadata": {
    "ExecuteTime": {
     "end_time": "2025-03-17T13:04:39.714278Z",
     "start_time": "2025-03-17T13:04:39.686142Z"
    }
   },
   "cell_type": "code",
   "source": [
    "\n",
    "print(classification_report(y_test, y_pred_top5))\n"
   ],
   "id": "fe08dd4414be9141",
   "outputs": [
    {
     "name": "stdout",
     "output_type": "stream",
     "text": [
      "              precision    recall  f1-score   support\n",
      "\n",
      "           0       0.94      0.95      0.94     21768\n",
      "           1       0.93      0.92      0.92     17068\n",
      "\n",
      "    accuracy                           0.93     38836\n",
      "   macro avg       0.93      0.93      0.93     38836\n",
      "weighted avg       0.93      0.93      0.93     38836\n",
      "\n"
     ]
    }
   ],
   "execution_count": 42
  },
  {
   "metadata": {},
   "cell_type": "markdown",
   "source": "## The scores went lower, so clearly we removed some important features",
   "id": "ec162ef8245d4980"
  },
  {
   "metadata": {},
   "cell_type": "markdown",
   "source": "## Now lets try to remove top 3 lowest score features ",
   "id": "804b4df3df4a2dfd"
  },
  {
   "metadata": {
    "ExecuteTime": {
     "end_time": "2025-03-17T13:14:55.740318Z",
     "start_time": "2025-03-17T13:14:50.953898Z"
    }
   },
   "cell_type": "code",
   "source": [
    "\n",
    "# Drop the last 3 features\n",
    "features_to_keep = feature_scores[:-3].index\n",
    "print(\"Features used (after dropping last 3):\")\n",
    "print(features_to_keep)\n",
    "\n",
    "# Subset the training and test data to only use the remaining features\n",
    "X_train_drop3 = X_train[features_to_keep]\n",
    "X_test_drop3 = X_test[features_to_keep]\n",
    "\n",
    "# Train a new model \n",
    "clf_drop3 = RandomForestClassifier(random_state=0, n_estimators=100)\n",
    "clf_drop3.fit(X_train_drop3, y_train)\n",
    "\n",
    "# Make predictions and evaluate\n",
    "y_pred_drop3 = clf_drop3.predict(X_test_drop3)"
   ],
   "id": "555321495b4df8f9",
   "outputs": [
    {
     "name": "stdout",
     "output_type": "stream",
     "text": [
      "Features used (after dropping last 3):\n",
      "MultiIndex([(                  'Online boarding',),\n",
      "            (            'Inflight wifi service',),\n",
      "            (   'Type of Travel_Personal Travel',),\n",
      "            (                            'Class',),\n",
      "            (           'Inflight entertainment',),\n",
      "            (  'Customer Type_disloyal Customer',),\n",
      "            (                     'Seat comfort',),\n",
      "            (           'Ease of Online booking',),\n",
      "            (                 'Leg room service',),\n",
      "            (                  'Flight Distance',),\n",
      "            (                              'Age',),\n",
      "            (                 'On-board service',),\n",
      "            (                      'Cleanliness',),\n",
      "            (                 'Inflight service',),\n",
      "            (                 'Baggage handling',),\n",
      "            (                  'Checkin service',),\n",
      "            ('Departure/Arrival time convenient',),\n",
      "            (                    'Gate location',),\n",
      "            (         'Arrival Delay in Minutes',)],\n",
      "           )\n"
     ]
    }
   ],
   "execution_count": 60
  },
  {
   "metadata": {
    "ExecuteTime": {
     "end_time": "2025-03-17T13:14:55.774483Z",
     "start_time": "2025-03-17T13:14:55.744823Z"
    }
   },
   "cell_type": "code",
   "source": "print(classification_report(y_test, y_pred_drop3))",
   "id": "67f5b95060dcafe8",
   "outputs": [
    {
     "name": "stdout",
     "output_type": "stream",
     "text": [
      "              precision    recall  f1-score   support\n",
      "\n",
      "           0       0.96      0.98      0.97     21768\n",
      "           1       0.97      0.94      0.96     17068\n",
      "\n",
      "    accuracy                           0.96     38836\n",
      "   macro avg       0.96      0.96      0.96     38836\n",
      "weighted avg       0.96      0.96      0.96     38836\n",
      "\n"
     ]
    }
   ],
   "execution_count": 61
  },
  {
   "metadata": {},
   "cell_type": "markdown",
   "source": "## This time we can see a slight improvement in precision. The score went from .95 to 0.96, this means we reduced False Positives without losing predictive power in other aspects and removing some noisy features, overall its positive outcome, especially for real world scenario.",
   "id": "df37b63de3841579"
  }
 ],
 "metadata": {
  "kernelspec": {
   "display_name": "Python 3",
   "language": "python",
   "name": "python3"
  },
  "language_info": {
   "codemirror_mode": {
    "name": "ipython",
    "version": 2
   },
   "file_extension": ".py",
   "mimetype": "text/x-python",
   "name": "python",
   "nbconvert_exporter": "python",
   "pygments_lexer": "ipython2",
   "version": "2.7.6"
  }
 },
 "nbformat": 4,
 "nbformat_minor": 5
}
