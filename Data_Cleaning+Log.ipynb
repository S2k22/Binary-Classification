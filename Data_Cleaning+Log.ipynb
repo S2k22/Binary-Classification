{
 "cells": [
  {
   "metadata": {},
   "cell_type": "markdown",
   "source": "",
   "id": "10c14c21a9a7c63a"
  },
  {
   "metadata": {
    "ExecuteTime": {
     "end_time": "2025-03-13T11:19:46.490581Z",
     "start_time": "2025-03-13T11:19:46.206154Z"
    }
   },
   "cell_type": "code",
   "source": [
    "import kagglehub\n",
    "import pandas as pd\n",
    "import matplotlib.pyplot as plt\n",
    "import seaborn as sns\n",
    "import scipy.stats as stats\n",
    "\n"
   ],
   "id": "c1324860314ee4f0",
   "outputs": [],
   "execution_count": 1
  },
  {
   "metadata": {
    "ExecuteTime": {
     "end_time": "2025-03-13T11:20:00.094204Z",
     "start_time": "2025-03-13T11:19:59.689879Z"
    }
   },
   "cell_type": "code",
   "source": [
    "path = kagglehub.dataset_download(\"johndddddd/customer-satisfaction\")\n",
    "\n",
    "print(\"Path to dataset files:\", path)"
   ],
   "id": "86204e69a820a70c",
   "outputs": [
    {
     "name": "stdout",
     "output_type": "stream",
     "text": [
      "Warning: Looks like you're using an outdated `kagglehub` version, please consider updating (latest version: 0.3.10)\n",
      "Path to dataset files: C:\\Users\\Mike\\.cache\\kagglehub\\datasets\\johndddddd\\customer-satisfaction\\versions\\2\n"
     ]
    }
   ],
   "execution_count": 2
  },
  {
   "metadata": {
    "ExecuteTime": {
     "end_time": "2025-03-13T11:20:15.425572Z",
     "start_time": "2025-03-13T11:20:00.776458Z"
    }
   },
   "cell_type": "code",
   "source": "df = pd.read_excel(\"satisfaction_2015.xlsx\")",
   "id": "73b6af11fea31b37",
   "outputs": [],
   "execution_count": 3
  },
  {
   "metadata": {
    "ExecuteTime": {
     "end_time": "2025-03-13T11:20:15.460328Z",
     "start_time": "2025-03-13T11:20:15.429577Z"
    }
   },
   "cell_type": "code",
   "source": "df.info()",
   "id": "c655fa020c05c05e",
   "outputs": [
    {
     "name": "stdout",
     "output_type": "stream",
     "text": [
      "<class 'pandas.core.frame.DataFrame'>\n",
      "RangeIndex: 129880 entries, 0 to 129879\n",
      "Data columns (total 24 columns):\n",
      " #   Column                             Non-Null Count   Dtype  \n",
      "---  ------                             --------------   -----  \n",
      " 0   id                                 129880 non-null  int64  \n",
      " 1   satisfaction_v2                    129880 non-null  object \n",
      " 2   Gender                             129880 non-null  object \n",
      " 3   Customer Type                      129880 non-null  object \n",
      " 4   Age                                129880 non-null  int64  \n",
      " 5   Type of Travel                     129880 non-null  object \n",
      " 6   Class                              129880 non-null  object \n",
      " 7   Flight Distance                    129880 non-null  int64  \n",
      " 8   Inflight wifi service              129880 non-null  int64  \n",
      " 9   Departure/Arrival time convenient  129880 non-null  int64  \n",
      " 10  Ease of Online booking             129880 non-null  int64  \n",
      " 11  Gate location                      129880 non-null  int64  \n",
      " 12  Food and drink                     129880 non-null  int64  \n",
      " 13  Online boarding                    129880 non-null  int64  \n",
      " 14  Seat comfort                       129880 non-null  int64  \n",
      " 15  Inflight entertainment             129880 non-null  int64  \n",
      " 16  On-board service                   129880 non-null  int64  \n",
      " 17  Leg room service                   129880 non-null  int64  \n",
      " 18  Baggage handling                   129880 non-null  int64  \n",
      " 19  Checkin service                    129880 non-null  int64  \n",
      " 20  Inflight service                   129880 non-null  int64  \n",
      " 21  Cleanliness                        129880 non-null  int64  \n",
      " 22  Departure Delay in Minutes         129880 non-null  int64  \n",
      " 23  Arrival Delay in Minutes           129487 non-null  float64\n",
      "dtypes: float64(1), int64(18), object(5)\n",
      "memory usage: 23.8+ MB\n"
     ]
    }
   ],
   "execution_count": 4
  },
  {
   "metadata": {
    "ExecuteTime": {
     "end_time": "2025-03-13T11:20:15.484230Z",
     "start_time": "2025-03-13T11:20:15.480025Z"
    }
   },
   "cell_type": "code",
   "source": "df.shape",
   "id": "42459733c015f5fd",
   "outputs": [
    {
     "data": {
      "text/plain": [
       "(129880, 24)"
      ]
     },
     "execution_count": 5,
     "metadata": {},
     "output_type": "execute_result"
    }
   ],
   "execution_count": 5
  },
  {
   "metadata": {
    "ExecuteTime": {
     "end_time": "2025-03-13T11:20:15.532753Z",
     "start_time": "2025-03-13T11:20:15.501402Z"
    }
   },
   "cell_type": "code",
   "source": "df",
   "id": "b1409f9748f52031",
   "outputs": [
    {
     "data": {
      "text/plain": [
       "            id satisfaction_v2  Gender      Customer Type  Age  \\\n",
       "0       117135       satisfied    Male  disloyal Customer   56   \n",
       "1        72091       satisfied    Male  disloyal Customer   49   \n",
       "2        29663       satisfied    Male  disloyal Customer   55   \n",
       "3        81849       satisfied  Female  disloyal Customer   36   \n",
       "4        83693       satisfied    Male  disloyal Customer   55   \n",
       "...        ...             ...     ...                ...  ...   \n",
       "129875   49202       satisfied  Female     Loyal Customer   35   \n",
       "129876   16986       satisfied  Female     Loyal Customer   11   \n",
       "129877   50316       satisfied    Male     Loyal Customer   46   \n",
       "129878   22333       satisfied  Female     Loyal Customer   35   \n",
       "129879   10198       satisfied  Female     Loyal Customer   47   \n",
       "\n",
       "         Type of Travel     Class  Flight Distance  Inflight wifi service  \\\n",
       "0       Personal Travel       Eco              369                      0   \n",
       "1       Personal Travel       Eco             2486                      0   \n",
       "2       Personal Travel       Eco             1448                      0   \n",
       "3       Personal Travel       Eco             1501                      0   \n",
       "4       Personal Travel       Eco              577                      0   \n",
       "...                 ...       ...              ...                    ...   \n",
       "129875  Business travel  Business             2592                      5   \n",
       "129876  Business travel       Eco              610                      5   \n",
       "129877  Business travel  Business               86                      1   \n",
       "129878  Business travel  Business               83                      1   \n",
       "129879  Business travel  Business             3939                      1   \n",
       "\n",
       "        Departure/Arrival time convenient  ...  Seat comfort  \\\n",
       "0                                       2  ...             3   \n",
       "1                                       2  ...             3   \n",
       "2                                       3  ...             3   \n",
       "3                                       4  ...             4   \n",
       "4                                       5  ...             3   \n",
       "...                                   ...  ...           ...   \n",
       "129875                                  5  ...             4   \n",
       "129876                                  1  ...             5   \n",
       "129877                                  1  ...             5   \n",
       "129878                                  1  ...             5   \n",
       "129879                                  1  ...             5   \n",
       "\n",
       "        Inflight entertainment  On-board service  Leg room service  \\\n",
       "0                            3                 1                 5   \n",
       "1                            2                 1                 1   \n",
       "2                            3                 3                 5   \n",
       "3                            4                 5                 4   \n",
       "4                            3                 3                 4   \n",
       "...                        ...               ...               ...   \n",
       "129875                       5                 5                 5   \n",
       "129876                       5                 5                 4   \n",
       "129877                       5                 1                 3   \n",
       "129878                       5                 4                 4   \n",
       "129879                       5                 2                 5   \n",
       "\n",
       "        Baggage handling  Checkin service  Inflight service  Cleanliness  \\\n",
       "0                      3                3                 4            3   \n",
       "1                      4                4                 3            2   \n",
       "2                      3                2                 3            3   \n",
       "3                      5                5                 5            4   \n",
       "4                      5                3                 4            3   \n",
       "...                  ...              ...               ...          ...   \n",
       "129875                 5                5                 5            4   \n",
       "129876                 1                2                 5            5   \n",
       "129877                 1                5                 2            2   \n",
       "129878                 2                5                 5            5   \n",
       "129879                 4                5                 4            5   \n",
       "\n",
       "        Departure Delay in Minutes  Arrival Delay in Minutes  \n",
       "0                                0                       0.0  \n",
       "1                                0                       0.0  \n",
       "2                                0                       0.0  \n",
       "3                                0                       0.0  \n",
       "4                                0                       0.0  \n",
       "...                            ...                       ...  \n",
       "129875                           0                       0.0  \n",
       "129876                          82                      65.0  \n",
       "129877                           0                       0.0  \n",
       "129878                           0                       0.0  \n",
       "129879                           0                       0.0  \n",
       "\n",
       "[129880 rows x 24 columns]"
      ],
      "text/html": [
       "<div>\n",
       "<style scoped>\n",
       "    .dataframe tbody tr th:only-of-type {\n",
       "        vertical-align: middle;\n",
       "    }\n",
       "\n",
       "    .dataframe tbody tr th {\n",
       "        vertical-align: top;\n",
       "    }\n",
       "\n",
       "    .dataframe thead th {\n",
       "        text-align: right;\n",
       "    }\n",
       "</style>\n",
       "<table border=\"1\" class=\"dataframe\">\n",
       "  <thead>\n",
       "    <tr style=\"text-align: right;\">\n",
       "      <th></th>\n",
       "      <th>id</th>\n",
       "      <th>satisfaction_v2</th>\n",
       "      <th>Gender</th>\n",
       "      <th>Customer Type</th>\n",
       "      <th>Age</th>\n",
       "      <th>Type of Travel</th>\n",
       "      <th>Class</th>\n",
       "      <th>Flight Distance</th>\n",
       "      <th>Inflight wifi service</th>\n",
       "      <th>Departure/Arrival time convenient</th>\n",
       "      <th>...</th>\n",
       "      <th>Seat comfort</th>\n",
       "      <th>Inflight entertainment</th>\n",
       "      <th>On-board service</th>\n",
       "      <th>Leg room service</th>\n",
       "      <th>Baggage handling</th>\n",
       "      <th>Checkin service</th>\n",
       "      <th>Inflight service</th>\n",
       "      <th>Cleanliness</th>\n",
       "      <th>Departure Delay in Minutes</th>\n",
       "      <th>Arrival Delay in Minutes</th>\n",
       "    </tr>\n",
       "  </thead>\n",
       "  <tbody>\n",
       "    <tr>\n",
       "      <th>0</th>\n",
       "      <td>117135</td>\n",
       "      <td>satisfied</td>\n",
       "      <td>Male</td>\n",
       "      <td>disloyal Customer</td>\n",
       "      <td>56</td>\n",
       "      <td>Personal Travel</td>\n",
       "      <td>Eco</td>\n",
       "      <td>369</td>\n",
       "      <td>0</td>\n",
       "      <td>2</td>\n",
       "      <td>...</td>\n",
       "      <td>3</td>\n",
       "      <td>3</td>\n",
       "      <td>1</td>\n",
       "      <td>5</td>\n",
       "      <td>3</td>\n",
       "      <td>3</td>\n",
       "      <td>4</td>\n",
       "      <td>3</td>\n",
       "      <td>0</td>\n",
       "      <td>0.0</td>\n",
       "    </tr>\n",
       "    <tr>\n",
       "      <th>1</th>\n",
       "      <td>72091</td>\n",
       "      <td>satisfied</td>\n",
       "      <td>Male</td>\n",
       "      <td>disloyal Customer</td>\n",
       "      <td>49</td>\n",
       "      <td>Personal Travel</td>\n",
       "      <td>Eco</td>\n",
       "      <td>2486</td>\n",
       "      <td>0</td>\n",
       "      <td>2</td>\n",
       "      <td>...</td>\n",
       "      <td>3</td>\n",
       "      <td>2</td>\n",
       "      <td>1</td>\n",
       "      <td>1</td>\n",
       "      <td>4</td>\n",
       "      <td>4</td>\n",
       "      <td>3</td>\n",
       "      <td>2</td>\n",
       "      <td>0</td>\n",
       "      <td>0.0</td>\n",
       "    </tr>\n",
       "    <tr>\n",
       "      <th>2</th>\n",
       "      <td>29663</td>\n",
       "      <td>satisfied</td>\n",
       "      <td>Male</td>\n",
       "      <td>disloyal Customer</td>\n",
       "      <td>55</td>\n",
       "      <td>Personal Travel</td>\n",
       "      <td>Eco</td>\n",
       "      <td>1448</td>\n",
       "      <td>0</td>\n",
       "      <td>3</td>\n",
       "      <td>...</td>\n",
       "      <td>3</td>\n",
       "      <td>3</td>\n",
       "      <td>3</td>\n",
       "      <td>5</td>\n",
       "      <td>3</td>\n",
       "      <td>2</td>\n",
       "      <td>3</td>\n",
       "      <td>3</td>\n",
       "      <td>0</td>\n",
       "      <td>0.0</td>\n",
       "    </tr>\n",
       "    <tr>\n",
       "      <th>3</th>\n",
       "      <td>81849</td>\n",
       "      <td>satisfied</td>\n",
       "      <td>Female</td>\n",
       "      <td>disloyal Customer</td>\n",
       "      <td>36</td>\n",
       "      <td>Personal Travel</td>\n",
       "      <td>Eco</td>\n",
       "      <td>1501</td>\n",
       "      <td>0</td>\n",
       "      <td>4</td>\n",
       "      <td>...</td>\n",
       "      <td>4</td>\n",
       "      <td>4</td>\n",
       "      <td>5</td>\n",
       "      <td>4</td>\n",
       "      <td>5</td>\n",
       "      <td>5</td>\n",
       "      <td>5</td>\n",
       "      <td>4</td>\n",
       "      <td>0</td>\n",
       "      <td>0.0</td>\n",
       "    </tr>\n",
       "    <tr>\n",
       "      <th>4</th>\n",
       "      <td>83693</td>\n",
       "      <td>satisfied</td>\n",
       "      <td>Male</td>\n",
       "      <td>disloyal Customer</td>\n",
       "      <td>55</td>\n",
       "      <td>Personal Travel</td>\n",
       "      <td>Eco</td>\n",
       "      <td>577</td>\n",
       "      <td>0</td>\n",
       "      <td>5</td>\n",
       "      <td>...</td>\n",
       "      <td>3</td>\n",
       "      <td>3</td>\n",
       "      <td>3</td>\n",
       "      <td>4</td>\n",
       "      <td>5</td>\n",
       "      <td>3</td>\n",
       "      <td>4</td>\n",
       "      <td>3</td>\n",
       "      <td>0</td>\n",
       "      <td>0.0</td>\n",
       "    </tr>\n",
       "    <tr>\n",
       "      <th>...</th>\n",
       "      <td>...</td>\n",
       "      <td>...</td>\n",
       "      <td>...</td>\n",
       "      <td>...</td>\n",
       "      <td>...</td>\n",
       "      <td>...</td>\n",
       "      <td>...</td>\n",
       "      <td>...</td>\n",
       "      <td>...</td>\n",
       "      <td>...</td>\n",
       "      <td>...</td>\n",
       "      <td>...</td>\n",
       "      <td>...</td>\n",
       "      <td>...</td>\n",
       "      <td>...</td>\n",
       "      <td>...</td>\n",
       "      <td>...</td>\n",
       "      <td>...</td>\n",
       "      <td>...</td>\n",
       "      <td>...</td>\n",
       "      <td>...</td>\n",
       "    </tr>\n",
       "    <tr>\n",
       "      <th>129875</th>\n",
       "      <td>49202</td>\n",
       "      <td>satisfied</td>\n",
       "      <td>Female</td>\n",
       "      <td>Loyal Customer</td>\n",
       "      <td>35</td>\n",
       "      <td>Business travel</td>\n",
       "      <td>Business</td>\n",
       "      <td>2592</td>\n",
       "      <td>5</td>\n",
       "      <td>5</td>\n",
       "      <td>...</td>\n",
       "      <td>4</td>\n",
       "      <td>5</td>\n",
       "      <td>5</td>\n",
       "      <td>5</td>\n",
       "      <td>5</td>\n",
       "      <td>5</td>\n",
       "      <td>5</td>\n",
       "      <td>4</td>\n",
       "      <td>0</td>\n",
       "      <td>0.0</td>\n",
       "    </tr>\n",
       "    <tr>\n",
       "      <th>129876</th>\n",
       "      <td>16986</td>\n",
       "      <td>satisfied</td>\n",
       "      <td>Female</td>\n",
       "      <td>Loyal Customer</td>\n",
       "      <td>11</td>\n",
       "      <td>Business travel</td>\n",
       "      <td>Eco</td>\n",
       "      <td>610</td>\n",
       "      <td>5</td>\n",
       "      <td>1</td>\n",
       "      <td>...</td>\n",
       "      <td>5</td>\n",
       "      <td>5</td>\n",
       "      <td>5</td>\n",
       "      <td>4</td>\n",
       "      <td>1</td>\n",
       "      <td>2</td>\n",
       "      <td>5</td>\n",
       "      <td>5</td>\n",
       "      <td>82</td>\n",
       "      <td>65.0</td>\n",
       "    </tr>\n",
       "    <tr>\n",
       "      <th>129877</th>\n",
       "      <td>50316</td>\n",
       "      <td>satisfied</td>\n",
       "      <td>Male</td>\n",
       "      <td>Loyal Customer</td>\n",
       "      <td>46</td>\n",
       "      <td>Business travel</td>\n",
       "      <td>Business</td>\n",
       "      <td>86</td>\n",
       "      <td>1</td>\n",
       "      <td>1</td>\n",
       "      <td>...</td>\n",
       "      <td>5</td>\n",
       "      <td>5</td>\n",
       "      <td>1</td>\n",
       "      <td>3</td>\n",
       "      <td>1</td>\n",
       "      <td>5</td>\n",
       "      <td>2</td>\n",
       "      <td>2</td>\n",
       "      <td>0</td>\n",
       "      <td>0.0</td>\n",
       "    </tr>\n",
       "    <tr>\n",
       "      <th>129878</th>\n",
       "      <td>22333</td>\n",
       "      <td>satisfied</td>\n",
       "      <td>Female</td>\n",
       "      <td>Loyal Customer</td>\n",
       "      <td>35</td>\n",
       "      <td>Business travel</td>\n",
       "      <td>Business</td>\n",
       "      <td>83</td>\n",
       "      <td>1</td>\n",
       "      <td>1</td>\n",
       "      <td>...</td>\n",
       "      <td>5</td>\n",
       "      <td>5</td>\n",
       "      <td>4</td>\n",
       "      <td>4</td>\n",
       "      <td>2</td>\n",
       "      <td>5</td>\n",
       "      <td>5</td>\n",
       "      <td>5</td>\n",
       "      <td>0</td>\n",
       "      <td>0.0</td>\n",
       "    </tr>\n",
       "    <tr>\n",
       "      <th>129879</th>\n",
       "      <td>10198</td>\n",
       "      <td>satisfied</td>\n",
       "      <td>Female</td>\n",
       "      <td>Loyal Customer</td>\n",
       "      <td>47</td>\n",
       "      <td>Business travel</td>\n",
       "      <td>Business</td>\n",
       "      <td>3939</td>\n",
       "      <td>1</td>\n",
       "      <td>1</td>\n",
       "      <td>...</td>\n",
       "      <td>5</td>\n",
       "      <td>5</td>\n",
       "      <td>2</td>\n",
       "      <td>5</td>\n",
       "      <td>4</td>\n",
       "      <td>5</td>\n",
       "      <td>4</td>\n",
       "      <td>5</td>\n",
       "      <td>0</td>\n",
       "      <td>0.0</td>\n",
       "    </tr>\n",
       "  </tbody>\n",
       "</table>\n",
       "<p>129880 rows × 24 columns</p>\n",
       "</div>"
      ]
     },
     "execution_count": 6,
     "metadata": {},
     "output_type": "execute_result"
    }
   ],
   "execution_count": 6
  },
  {
   "metadata": {
    "ExecuteTime": {
     "end_time": "2025-03-13T11:20:15.568196Z",
     "start_time": "2025-03-13T11:20:15.551576Z"
    }
   },
   "cell_type": "code",
   "source": [
    "nan_counts = df.isna().sum()\n",
    "print(nan_counts)"
   ],
   "id": "ad7f116208600354",
   "outputs": [
    {
     "name": "stdout",
     "output_type": "stream",
     "text": [
      "id                                     0\n",
      "satisfaction_v2                        0\n",
      "Gender                                 0\n",
      "Customer Type                          0\n",
      "Age                                    0\n",
      "Type of Travel                         0\n",
      "Class                                  0\n",
      "Flight Distance                        0\n",
      "Inflight wifi service                  0\n",
      "Departure/Arrival time convenient      0\n",
      "Ease of Online booking                 0\n",
      "Gate location                          0\n",
      "Food and drink                         0\n",
      "Online boarding                        0\n",
      "Seat comfort                           0\n",
      "Inflight entertainment                 0\n",
      "On-board service                       0\n",
      "Leg room service                       0\n",
      "Baggage handling                       0\n",
      "Checkin service                        0\n",
      "Inflight service                       0\n",
      "Cleanliness                            0\n",
      "Departure Delay in Minutes             0\n",
      "Arrival Delay in Minutes             393\n",
      "dtype: int64\n"
     ]
    }
   ],
   "execution_count": 7
  },
  {
   "metadata": {
    "ExecuteTime": {
     "end_time": "2025-03-13T11:20:15.594151Z",
     "start_time": "2025-03-13T11:20:15.583472Z"
    }
   },
   "cell_type": "code",
   "source": "df=df.dropna(subset=['Arrival Delay in Minutes'])",
   "id": "2b8418288199bd5a",
   "outputs": [],
   "execution_count": 8
  },
  {
   "metadata": {
    "ExecuteTime": {
     "end_time": "2025-03-13T11:20:33.096556Z",
     "start_time": "2025-03-13T11:20:33.093075Z"
    }
   },
   "cell_type": "code",
   "source": [
    "\n",
    "\n",
    "categorical = [var for var in df.columns if df[var].dtype=='O']\n",
    "\n",
    "print('There are {} categorical variables\\n'.format(len(categorical)))\n",
    "\n",
    "print('The categorical variables are :\\n\\n', categorical)\n",
    "\n"
   ],
   "id": "9f56fbecb2d08b5",
   "outputs": [
    {
     "name": "stdout",
     "output_type": "stream",
     "text": [
      "There are 5 categorical variables\n",
      "\n",
      "The categorical variables are :\n",
      "\n",
      " ['satisfaction_v2', 'Gender', 'Customer Type', 'Type of Travel', 'Class']\n"
     ]
    }
   ],
   "execution_count": 9
  },
  {
   "metadata": {
    "ExecuteTime": {
     "end_time": "2025-03-13T11:20:33.889165Z",
     "start_time": "2025-03-13T11:20:33.869698Z"
    }
   },
   "cell_type": "code",
   "source": [
    "for var in categorical: \n",
    "    \n",
    "    print(df[var].value_counts())"
   ],
   "id": "df67bc8b2daae92c",
   "outputs": [
    {
     "name": "stdout",
     "output_type": "stream",
     "text": [
      "satisfaction_v2\n",
      "neutral or dissatisfied    73225\n",
      "satisfied                  56262\n",
      "Name: count, dtype: int64\n",
      "Gender\n",
      "Female    65703\n",
      "Male      63784\n",
      "Name: count, dtype: int64\n",
      "Customer Type\n",
      "Loyal Customer       105773\n",
      "disloyal Customer     23714\n",
      "Name: count, dtype: int64\n",
      "Type of Travel\n",
      "Business travel    89445\n",
      "Personal Travel    40042\n",
      "Name: count, dtype: int64\n",
      "Class\n",
      "Business    61990\n",
      "Eco         58117\n",
      "Eco Plus     9380\n",
      "Name: count, dtype: int64\n"
     ]
    }
   ],
   "execution_count": 10
  },
  {
   "metadata": {
    "ExecuteTime": {
     "end_time": "2025-03-13T11:20:34.648279Z",
     "start_time": "2025-03-13T11:20:34.378825Z"
    }
   },
   "cell_type": "code",
   "source": [
    "f, ax = plt.subplots(figsize=(10, 8))\n",
    "ax = sns.countplot(x=\"satisfaction_v2\", hue=\"Gender\", data=df, palette=\"Set1\")\n",
    "ax.set_title(\"Frequency distribution of income variable wrt sex\")\n",
    "plt.show()"
   ],
   "id": "87348fab0d564676",
   "outputs": [
    {
     "data": {
      "text/plain": [
       "<Figure size 1000x800 with 1 Axes>"
      ],
      "image/png": "[encoded data removed]"
     },
     "metadata": {},
     "output_type": "display_data"
    }
   ],
   "execution_count": 11
  },
  {
   "metadata": {
    "ExecuteTime": {
     "end_time": "2025-03-13T11:20:35.207960Z",
     "start_time": "2025-03-13T11:20:35.204318Z"
    }
   },
   "cell_type": "code",
   "source": [
    "counts = df['Inflight wifi service'].value_counts()\n",
    "print(counts)"
   ],
   "id": "a3e0ad7a4f2bb221",
   "outputs": [
    {
     "name": "stdout",
     "output_type": "stream",
     "text": [
      "Inflight wifi service\n",
      "2    32236\n",
      "3    32087\n",
      "4    24702\n",
      "1    22250\n",
      "5    14304\n",
      "0     3908\n",
      "Name: count, dtype: int64\n"
     ]
    }
   ],
   "execution_count": 12
  },
  {
   "metadata": {
    "ExecuteTime": {
     "end_time": "2025-03-13T11:20:36.212859Z",
     "start_time": "2025-03-13T11:20:36.209261Z"
    }
   },
   "cell_type": "code",
   "source": "df['Age'].nunique()",
   "id": "a91c3acce34becb2",
   "outputs": [
    {
     "data": {
      "text/plain": [
       "75"
      ]
     },
     "execution_count": 13,
     "metadata": {},
     "output_type": "execute_result"
    }
   ],
   "execution_count": 13
  },
  {
   "metadata": {
    "ExecuteTime": {
     "end_time": "2025-03-13T11:20:39.999041Z",
     "start_time": "2025-03-13T11:20:39.729948Z"
    }
   },
   "cell_type": "code",
   "source": [
    "f, ax = plt.subplots(figsize=(10,8))\n",
    "x = df['Age']\n",
    "ax = sns.distplot(x, bins=10, color='blue')\n",
    "ax.set_title(\"Distribution of age variable\")\n",
    "plt.show()"
   ],
   "id": "878bca7481aa6832",
   "outputs": [
    {
     "name": "stderr",
     "output_type": "stream",
     "text": [
      "C:\\Users\\Mike\\AppData\\Local\\Temp\\ipykernel_10544\\3663701479.py:3: UserWarning: \n",
      "\n",
      "`distplot` is a deprecated function and will be removed in seaborn v0.14.0.\n",
      "\n",
      "Please adapt your code to use either `displot` (a figure-level function with\n",
      "similar flexibility) or `histplot` (an axes-level function for histograms).\n",
      "\n",
      "For a guide to updating your code to use the new functions, please see\n",
      "https://gist.github.com/mwaskom/de44147ed2974457ad6372750bbe5751\n",
      "\n",
      "  ax = sns.distplot(x, bins=10, color='blue')\n"
     ]
    },
    {
     "data": {
      "text/plain": [
       "<Figure size 1000x800 with 1 Axes>"
      ],
      "image/png": "[encoded data removed]"
     },
     "metadata": {},
     "output_type": "display_data"
    }
   ],
   "execution_count": 14
  },
  {
   "metadata": {
    "ExecuteTime": {
     "end_time": "2025-03-13T11:20:45.218631Z",
     "start_time": "2025-03-13T11:20:45.063301Z"
    }
   },
   "cell_type": "code",
   "source": [
    "f, ax = plt.subplots(figsize=(10,8))\n",
    "x = df['Age']\n",
    "ax = sns.boxplot(x)\n",
    "ax.set_title(\"Visualize outliers in age variable\")\n",
    "plt.show()"
   ],
   "id": "f0cf50fbd365752b",
   "outputs": [
    {
     "data": {
      "text/plain": [
       "<Figure size 1000x800 with 1 Axes>"
      ],
      "image/png": "[encoded data removed]"
     },
     "metadata": {},
     "output_type": "display_data"
    }
   ],
   "execution_count": 15
  },
  {
   "metadata": {
    "ExecuteTime": {
     "end_time": "2025-03-13T11:20:46.590789Z",
     "start_time": "2025-03-13T11:20:46.289574Z"
    }
   },
   "cell_type": "code",
   "source": [
    "\n",
    "import seaborn as sns\n",
    "import matplotlib.pyplot as plt\n",
    "\n",
    "\n",
    "\n",
    "# Create a histogram with a kernel density estimate (KDE)\n",
    "plt.figure(figsize=(8, 6))\n",
    "sns.histplot(data=df, x='Flight Distance', bins=30, kde=True)\n",
    "plt.xlabel('Flight Distance')\n",
    "plt.title('Distribution of Flight Distance')\n",
    "plt.show()\n"
   ],
   "id": "d9744a6024f8c9c1",
   "outputs": [
    {
     "data": {
      "text/plain": [
       "<Figure size 800x600 with 1 Axes>"
      ],
      "image/png": "[encoded data removed]"
     },
     "metadata": {},
     "output_type": "display_data"
    }
   ],
   "execution_count": 16
  },
  {
   "metadata": {
    "ExecuteTime": {
     "end_time": "2025-03-13T11:20:50.598619Z",
     "start_time": "2025-03-13T11:20:50.595172Z"
    }
   },
   "cell_type": "code",
   "source": [
    "import numpy as np\n",
    "\n",
    "def log_transform_and_remove_outliers(df, column_name, iqr_factor=1.5, in_place=False):\n",
    "\n",
    "\n",
    "    # Optionally create a copy so we don't modify the original DataFrame\n",
    "    if not in_place:\n",
    "        df = df.copy()\n",
    "\n",
    "    # 1. Log transform the column (ensure it's non-negative)\n",
    "    df[column_name] = np.log1p(df[column_name])\n",
    "\n",
    "    # 2. Calculate IQR boundaries on the log-transformed data\n",
    "    Q1 = df[column_name].quantile(0.25)\n",
    "    Q3 = df[column_name].quantile(0.75)\n",
    "    IQR = Q3 - Q1\n",
    "\n",
    "    lower_bound = Q1 - iqr_factor * IQR\n",
    "    upper_bound = Q3 + iqr_factor * IQR\n",
    "\n",
    "    # 3. Create a mask for outliers\n",
    "    outlier_mask = (df[column_name] < lower_bound) | (df[column_name] > upper_bound)\n",
    "\n",
    "    # 4. Filter them out\n",
    "    df_no_outliers = df[~outlier_mask]\n",
    "\n",
    "    return df_no_outliers\n"
   ],
   "id": "97918c5f8c35ead9",
   "outputs": [],
   "execution_count": 17
  },
  {
   "metadata": {
    "ExecuteTime": {
     "end_time": "2025-03-13T11:20:51.264451Z",
     "start_time": "2025-03-13T11:20:51.171104Z"
    }
   },
   "cell_type": "code",
   "source": [
    "df=log_transform_and_remove_outliers(df, 'Flight Distance', iqr_factor=1.5) \n",
    "df=log_transform_and_remove_outliers(df, 'Arrival Delay in Minutes', iqr_factor=1.5)\n",
    "df=log_transform_and_remove_outliers(df, 'Departure Delay in Minutes', iqr_factor=1.5)\n",
    "df"
   ],
   "id": "dc25572ae0ac7060",
   "outputs": [
    {
     "data": {
      "text/plain": [
       "            id satisfaction_v2  Gender      Customer Type  Age  \\\n",
       "0       117135       satisfied    Male  disloyal Customer   56   \n",
       "1        72091       satisfied    Male  disloyal Customer   49   \n",
       "2        29663       satisfied    Male  disloyal Customer   55   \n",
       "3        81849       satisfied  Female  disloyal Customer   36   \n",
       "4        83693       satisfied    Male  disloyal Customer   55   \n",
       "...        ...             ...     ...                ...  ...   \n",
       "129875   49202       satisfied  Female     Loyal Customer   35   \n",
       "129876   16986       satisfied  Female     Loyal Customer   11   \n",
       "129877   50316       satisfied    Male     Loyal Customer   46   \n",
       "129878   22333       satisfied  Female     Loyal Customer   35   \n",
       "129879   10198       satisfied  Female     Loyal Customer   47   \n",
       "\n",
       "         Type of Travel     Class  Flight Distance  Inflight wifi service  \\\n",
       "0       Personal Travel       Eco         5.913503                      0   \n",
       "1       Personal Travel       Eco         7.818832                      0   \n",
       "2       Personal Travel       Eco         7.278629                      0   \n",
       "3       Personal Travel       Eco         7.314553                      0   \n",
       "4       Personal Travel       Eco         6.359574                      0   \n",
       "...                 ...       ...              ...                    ...   \n",
       "129875  Business travel  Business         7.860571                      5   \n",
       "129876  Business travel       Eco         6.415097                      5   \n",
       "129877  Business travel  Business         4.465908                      1   \n",
       "129878  Business travel  Business         4.430817                      1   \n",
       "129879  Business travel  Business         8.278936                      1   \n",
       "\n",
       "        Departure/Arrival time convenient  ...  Seat comfort  \\\n",
       "0                                       2  ...             3   \n",
       "1                                       2  ...             3   \n",
       "2                                       3  ...             3   \n",
       "3                                       4  ...             4   \n",
       "4                                       5  ...             3   \n",
       "...                                   ...  ...           ...   \n",
       "129875                                  5  ...             4   \n",
       "129876                                  1  ...             5   \n",
       "129877                                  1  ...             5   \n",
       "129878                                  1  ...             5   \n",
       "129879                                  1  ...             5   \n",
       "\n",
       "        Inflight entertainment  On-board service  Leg room service  \\\n",
       "0                            3                 1                 5   \n",
       "1                            2                 1                 1   \n",
       "2                            3                 3                 5   \n",
       "3                            4                 5                 4   \n",
       "4                            3                 3                 4   \n",
       "...                        ...               ...               ...   \n",
       "129875                       5                 5                 5   \n",
       "129876                       5                 5                 4   \n",
       "129877                       5                 1                 3   \n",
       "129878                       5                 4                 4   \n",
       "129879                       5                 2                 5   \n",
       "\n",
       "        Baggage handling  Checkin service  Inflight service  Cleanliness  \\\n",
       "0                      3                3                 4            3   \n",
       "1                      4                4                 3            2   \n",
       "2                      3                2                 3            3   \n",
       "3                      5                5                 5            4   \n",
       "4                      5                3                 4            3   \n",
       "...                  ...              ...               ...          ...   \n",
       "129875                 5                5                 5            4   \n",
       "129876                 1                2                 5            5   \n",
       "129877                 1                5                 2            2   \n",
       "129878                 2                5                 5            5   \n",
       "129879                 4                5                 4            5   \n",
       "\n",
       "        Departure Delay in Minutes  Arrival Delay in Minutes  \n",
       "0                         0.000000                  0.000000  \n",
       "1                         0.000000                  0.000000  \n",
       "2                         0.000000                  0.000000  \n",
       "3                         0.000000                  0.000000  \n",
       "4                         0.000000                  0.000000  \n",
       "...                            ...                       ...  \n",
       "129875                    0.000000                  0.000000  \n",
       "129876                    4.418841                  4.189655  \n",
       "129877                    0.000000                  0.000000  \n",
       "129878                    0.000000                  0.000000  \n",
       "129879                    0.000000                  0.000000  \n",
       "\n",
       "[129452 rows x 24 columns]"
      ],
      "text/html": [
       "<div>\n",
       "<style scoped>\n",
       "    .dataframe tbody tr th:only-of-type {\n",
       "        vertical-align: middle;\n",
       "    }\n",
       "\n",
       "    .dataframe tbody tr th {\n",
       "        vertical-align: top;\n",
       "    }\n",
       "\n",
       "    .dataframe thead th {\n",
       "        text-align: right;\n",
       "    }\n",
       "</style>\n",
       "<table border=\"1\" class=\"dataframe\">\n",
       "  <thead>\n",
       "    <tr style=\"text-align: right;\">\n",
       "      <th></th>\n",
       "      <th>id</th>\n",
       "      <th>satisfaction_v2</th>\n",
       "      <th>Gender</th>\n",
       "      <th>Customer Type</th>\n",
       "      <th>Age</th>\n",
       "      <th>Type of Travel</th>\n",
       "      <th>Class</th>\n",
       "      <th>Flight Distance</th>\n",
       "      <th>Inflight wifi service</th>\n",
       "      <th>Departure/Arrival time convenient</th>\n",
       "      <th>...</th>\n",
       "      <th>Seat comfort</th>\n",
       "      <th>Inflight entertainment</th>\n",
       "      <th>On-board service</th>\n",
       "      <th>Leg room service</th>\n",
       "      <th>Baggage handling</th>\n",
       "      <th>Checkin service</th>\n",
       "      <th>Inflight service</th>\n",
       "      <th>Cleanliness</th>\n",
       "      <th>Departure Delay in Minutes</th>\n",
       "      <th>Arrival Delay in Minutes</th>\n",
       "    </tr>\n",
       "  </thead>\n",
       "  <tbody>\n",
       "    <tr>\n",
       "      <th>0</th>\n",
       "      <td>117135</td>\n",
       "      <td>satisfied</td>\n",
       "      <td>Male</td>\n",
       "      <td>disloyal Customer</td>\n",
       "      <td>56</td>\n",
       "      <td>Personal Travel</td>\n",
       "      <td>Eco</td>\n",
       "      <td>5.913503</td>\n",
       "      <td>0</td>\n",
       "      <td>2</td>\n",
       "      <td>...</td>\n",
       "      <td>3</td>\n",
       "      <td>3</td>\n",
       "      <td>1</td>\n",
       "      <td>5</td>\n",
       "      <td>3</td>\n",
       "      <td>3</td>\n",
       "      <td>4</td>\n",
       "      <td>3</td>\n",
       "      <td>0.000000</td>\n",
       "      <td>0.000000</td>\n",
       "    </tr>\n",
       "    <tr>\n",
       "      <th>1</th>\n",
       "      <td>72091</td>\n",
       "      <td>satisfied</td>\n",
       "      <td>Male</td>\n",
       "      <td>disloyal Customer</td>\n",
       "      <td>49</td>\n",
       "      <td>Personal Travel</td>\n",
       "      <td>Eco</td>\n",
       "      <td>7.818832</td>\n",
       "      <td>0</td>\n",
       "      <td>2</td>\n",
       "      <td>...</td>\n",
       "      <td>3</td>\n",
       "      <td>2</td>\n",
       "      <td>1</td>\n",
       "      <td>1</td>\n",
       "      <td>4</td>\n",
       "      <td>4</td>\n",
       "      <td>3</td>\n",
       "      <td>2</td>\n",
       "      <td>0.000000</td>\n",
       "      <td>0.000000</td>\n",
       "    </tr>\n",
       "    <tr>\n",
       "      <th>2</th>\n",
       "      <td>29663</td>\n",
       "      <td>satisfied</td>\n",
       "      <td>Male</td>\n",
       "      <td>disloyal Customer</td>\n",
       "      <td>55</td>\n",
       "      <td>Personal Travel</td>\n",
       "      <td>Eco</td>\n",
       "      <td>7.278629</td>\n",
       "      <td>0</td>\n",
       "      <td>3</td>\n",
       "      <td>...</td>\n",
       "      <td>3</td>\n",
       "      <td>3</td>\n",
       "      <td>3</td>\n",
       "      <td>5</td>\n",
       "      <td>3</td>\n",
       "      <td>2</td>\n",
       "      <td>3</td>\n",
       "      <td>3</td>\n",
       "      <td>0.000000</td>\n",
       "      <td>0.000000</td>\n",
       "    </tr>\n",
       "    <tr>\n",
       "      <th>3</th>\n",
       "      <td>81849</td>\n",
       "      <td>satisfied</td>\n",
       "      <td>Female</td>\n",
       "      <td>disloyal Customer</td>\n",
       "      <td>36</td>\n",
       "      <td>Personal Travel</td>\n",
       "      <td>Eco</td>\n",
       "      <td>7.314553</td>\n",
       "      <td>0</td>\n",
       "      <td>4</td>\n",
       "      <td>...</td>\n",
       "      <td>4</td>\n",
       "      <td>4</td>\n",
       "      <td>5</td>\n",
       "      <td>4</td>\n",
       "      <td>5</td>\n",
       "      <td>5</td>\n",
       "      <td>5</td>\n",
       "      <td>4</td>\n",
       "      <td>0.000000</td>\n",
       "      <td>0.000000</td>\n",
       "    </tr>\n",
       "    <tr>\n",
       "      <th>4</th>\n",
       "      <td>83693</td>\n",
       "      <td>satisfied</td>\n",
       "      <td>Male</td>\n",
       "      <td>disloyal Customer</td>\n",
       "      <td>55</td>\n",
       "      <td>Personal Travel</td>\n",
       "      <td>Eco</td>\n",
       "      <td>6.359574</td>\n",
       "      <td>0</td>\n",
       "      <td>5</td>\n",
       "      <td>...</td>\n",
       "      <td>3</td>\n",
       "      <td>3</td>\n",
       "      <td>3</td>\n",
       "      <td>4</td>\n",
       "      <td>5</td>\n",
       "      <td>3</td>\n",
       "      <td>4</td>\n",
       "      <td>3</td>\n",
       "      <td>0.000000</td>\n",
       "      <td>0.000000</td>\n",
       "    </tr>\n",
       "    <tr>\n",
       "      <th>...</th>\n",
       "      <td>...</td>\n",
       "      <td>...</td>\n",
       "      <td>...</td>\n",
       "      <td>...</td>\n",
       "      <td>...</td>\n",
       "      <td>...</td>\n",
       "      <td>...</td>\n",
       "      <td>...</td>\n",
       "      <td>...</td>\n",
       "      <td>...</td>\n",
       "      <td>...</td>\n",
       "      <td>...</td>\n",
       "      <td>...</td>\n",
       "      <td>...</td>\n",
       "      <td>...</td>\n",
       "      <td>...</td>\n",
       "      <td>...</td>\n",
       "      <td>...</td>\n",
       "      <td>...</td>\n",
       "      <td>...</td>\n",
       "      <td>...</td>\n",
       "    </tr>\n",
       "    <tr>\n",
       "      <th>129875</th>\n",
       "      <td>49202</td>\n",
       "      <td>satisfied</td>\n",
       "      <td>Female</td>\n",
       "      <td>Loyal Customer</td>\n",
       "      <td>35</td>\n",
       "      <td>Business travel</td>\n",
       "      <td>Business</td>\n",
       "      <td>7.860571</td>\n",
       "      <td>5</td>\n",
       "      <td>5</td>\n",
       "      <td>...</td>\n",
       "      <td>4</td>\n",
       "      <td>5</td>\n",
       "      <td>5</td>\n",
       "      <td>5</td>\n",
       "      <td>5</td>\n",
       "      <td>5</td>\n",
       "      <td>5</td>\n",
       "      <td>4</td>\n",
       "      <td>0.000000</td>\n",
       "      <td>0.000000</td>\n",
       "    </tr>\n",
       "    <tr>\n",
       "      <th>129876</th>\n",
       "      <td>16986</td>\n",
       "      <td>satisfied</td>\n",
       "      <td>Female</td>\n",
       "      <td>Loyal Customer</td>\n",
       "      <td>11</td>\n",
       "      <td>Business travel</td>\n",
       "      <td>Eco</td>\n",
       "      <td>6.415097</td>\n",
       "      <td>5</td>\n",
       "      <td>1</td>\n",
       "      <td>...</td>\n",
       "      <td>5</td>\n",
       "      <td>5</td>\n",
       "      <td>5</td>\n",
       "      <td>4</td>\n",
       "      <td>1</td>\n",
       "      <td>2</td>\n",
       "      <td>5</td>\n",
       "      <td>5</td>\n",
       "      <td>4.418841</td>\n",
       "      <td>4.189655</td>\n",
       "    </tr>\n",
       "    <tr>\n",
       "      <th>129877</th>\n",
       "      <td>50316</td>\n",
       "      <td>satisfied</td>\n",
       "      <td>Male</td>\n",
       "      <td>Loyal Customer</td>\n",
       "      <td>46</td>\n",
       "      <td>Business travel</td>\n",
       "      <td>Business</td>\n",
       "      <td>4.465908</td>\n",
       "      <td>1</td>\n",
       "      <td>1</td>\n",
       "      <td>...</td>\n",
       "      <td>5</td>\n",
       "      <td>5</td>\n",
       "      <td>1</td>\n",
       "      <td>3</td>\n",
       "      <td>1</td>\n",
       "      <td>5</td>\n",
       "      <td>2</td>\n",
       "      <td>2</td>\n",
       "      <td>0.000000</td>\n",
       "      <td>0.000000</td>\n",
       "    </tr>\n",
       "    <tr>\n",
       "      <th>129878</th>\n",
       "      <td>22333</td>\n",
       "      <td>satisfied</td>\n",
       "      <td>Female</td>\n",
       "      <td>Loyal Customer</td>\n",
       "      <td>35</td>\n",
       "      <td>Business travel</td>\n",
       "      <td>Business</td>\n",
       "      <td>4.430817</td>\n",
       "      <td>1</td>\n",
       "      <td>1</td>\n",
       "      <td>...</td>\n",
       "      <td>5</td>\n",
       "      <td>5</td>\n",
       "      <td>4</td>\n",
       "      <td>4</td>\n",
       "      <td>2</td>\n",
       "      <td>5</td>\n",
       "      <td>5</td>\n",
       "      <td>5</td>\n",
       "      <td>0.000000</td>\n",
       "      <td>0.000000</td>\n",
       "    </tr>\n",
       "    <tr>\n",
       "      <th>129879</th>\n",
       "      <td>10198</td>\n",
       "      <td>satisfied</td>\n",
       "      <td>Female</td>\n",
       "      <td>Loyal Customer</td>\n",
       "      <td>47</td>\n",
       "      <td>Business travel</td>\n",
       "      <td>Business</td>\n",
       "      <td>8.278936</td>\n",
       "      <td>1</td>\n",
       "      <td>1</td>\n",
       "      <td>...</td>\n",
       "      <td>5</td>\n",
       "      <td>5</td>\n",
       "      <td>2</td>\n",
       "      <td>5</td>\n",
       "      <td>4</td>\n",
       "      <td>5</td>\n",
       "      <td>4</td>\n",
       "      <td>5</td>\n",
       "      <td>0.000000</td>\n",
       "      <td>0.000000</td>\n",
       "    </tr>\n",
       "  </tbody>\n",
       "</table>\n",
       "<p>129452 rows × 24 columns</p>\n",
       "</div>"
      ]
     },
     "execution_count": 18,
     "metadata": {},
     "output_type": "execute_result"
    }
   ],
   "execution_count": 18
  },
  {
   "metadata": {
    "ExecuteTime": {
     "end_time": "2025-03-13T11:20:51.972068Z",
     "start_time": "2025-03-13T11:20:51.969249Z"
    }
   },
   "cell_type": "code",
   "source": [
    "def hist_plot ( df, column_name):\n",
    "    \n",
    "    sns.histplot(df[column_name], kde=True)\n",
    "    plt.show()\n",
    "    # Q-Q plot for normal\n",
    "    stats.probplot(df[column_name], dist=\"norm\", plot=plt)\n",
    "    plt.show()"
   ],
   "id": "b807489ff276e246",
   "outputs": [],
   "execution_count": 19
  },
  {
   "metadata": {
    "ExecuteTime": {
     "end_time": "2025-03-13T11:20:52.955833Z",
     "start_time": "2025-03-13T11:20:52.428770Z"
    }
   },
   "cell_type": "code",
   "source": "hist_plot ( df, column_name=\"Flight Distance\")\n",
   "id": "87a9304fb91c0a05",
   "outputs": [
    {
     "data": {
      "text/plain": [
       "<Figure size 640x480 with 1 Axes>"
      ],
      "image/png": "[encoded data removed]"
     },
     "metadata": {},
     "output_type": "display_data"
    },
    {
     "data": {
      "text/plain": [
       "<Figure size 640x480 with 1 Axes>"
      ],
      "image/png": "[encoded data removed]"
     },
     "metadata": {},
     "output_type": "display_data"
    }
   ],
   "execution_count": 20
  },
  {
   "metadata": {
    "ExecuteTime": {
     "end_time": "2025-02-24T11:45:19.481901Z",
     "start_time": "2025-02-24T11:45:19.023414Z"
    }
   },
   "cell_type": "code",
   "source": "//df.to_csv('satisfaction_log_no_outliers.csv', index=False)//",
   "id": "9f889721f3e75a00",
   "outputs": [],
   "execution_count": 19
  },
  {
   "metadata": {},
   "cell_type": "code",
   "outputs": [],
   "execution_count": null,
   "source": "",
   "id": "f0676a70a88d72f1"
  }
 ],
 "metadata": {
  "kernelspec": {
   "display_name": "Python 3",
   "language": "python",
   "name": "python3"
  },
  "language_info": {
   "codemirror_mode": {
    "name": "ipython",
    "version": 2
   },
   "file_extension": ".py",
   "mimetype": "text/x-python",
   "name": "python",
   "nbconvert_exporter": "python",
   "pygments_lexer": "ipython2",
   "version": "2.7.6"
  }
 },
 "nbformat": 4,
 "nbformat_minor": 5
}
